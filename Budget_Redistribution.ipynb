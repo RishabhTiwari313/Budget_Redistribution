{
 "cells": [
  {
   "cell_type": "markdown",
   "id": "32991b85",
   "metadata": {},
   "source": [
    "# Problem statement\n",
    "As a part of the an Ad:tech product ecosystem, we need to create an algorithm to better redistribute the budget from the sample data set to derive more actions. \n",
    "\n",
    "In the current attached data set, the actions are defined by “link clicks” and the objective for you is to find out the best distribution algorithm that can help our advertiser get more actions from the budget. Couple of pointers you might find important/relevant:\n",
    "•\tThe campaign currently is running on a total daily budget of 500. \n",
    "•\tThere is a current daily budget set at each adset\n",
    "•\tYou have the last 7 days data to understand the spends (against budget allocated), the frequency at which the ad is shown to the user and number of actions (link clicks) we have been getting\n"
   ]
  },
  {
   "cell_type": "code",
   "execution_count": 1,
   "id": "b0ca94bc",
   "metadata": {},
   "outputs": [],
   "source": [
    "import numpy as np\n",
    "import pandas as pd\n",
    "import matplotlib.pyplot as plt\n",
    "import seaborn as sns"
   ]
  },
  {
   "cell_type": "code",
   "execution_count": 2,
   "id": "9be1dcbc",
   "metadata": {},
   "outputs": [
    {
     "data": {
      "text/html": [
       "<div>\n",
       "<style scoped>\n",
       "    .dataframe tbody tr th:only-of-type {\n",
       "        vertical-align: middle;\n",
       "    }\n",
       "\n",
       "    .dataframe tbody tr th {\n",
       "        vertical-align: top;\n",
       "    }\n",
       "\n",
       "    .dataframe thead th {\n",
       "        text-align: right;\n",
       "    }\n",
       "</style>\n",
       "<table border=\"1\" class=\"dataframe\">\n",
       "  <thead>\n",
       "    <tr style=\"text-align: right;\">\n",
       "      <th></th>\n",
       "      <th>Date</th>\n",
       "      <th>Ad set name</th>\n",
       "      <th>Amount spent</th>\n",
       "      <th>Actions</th>\n",
       "      <th>Ad set budget</th>\n",
       "      <th>Frequency</th>\n",
       "    </tr>\n",
       "  </thead>\n",
       "  <tbody>\n",
       "    <tr>\n",
       "      <th>0</th>\n",
       "      <td>2021-11-03</td>\n",
       "      <td>Target group 1</td>\n",
       "      <td>120.80</td>\n",
       "      <td>61.0</td>\n",
       "      <td>156.5</td>\n",
       "      <td>1.349448</td>\n",
       "    </tr>\n",
       "    <tr>\n",
       "      <th>1</th>\n",
       "      <td>2021-11-04</td>\n",
       "      <td>Target group 1</td>\n",
       "      <td>119.23</td>\n",
       "      <td>37.0</td>\n",
       "      <td>156.5</td>\n",
       "      <td>1.250163</td>\n",
       "    </tr>\n",
       "    <tr>\n",
       "      <th>2</th>\n",
       "      <td>2021-11-05</td>\n",
       "      <td>Target group 1</td>\n",
       "      <td>123.66</td>\n",
       "      <td>44.0</td>\n",
       "      <td>156.5</td>\n",
       "      <td>1.229454</td>\n",
       "    </tr>\n",
       "    <tr>\n",
       "      <th>3</th>\n",
       "      <td>2021-11-06</td>\n",
       "      <td>Target group 1</td>\n",
       "      <td>130.73</td>\n",
       "      <td>46.0</td>\n",
       "      <td>156.5</td>\n",
       "      <td>1.215047</td>\n",
       "    </tr>\n",
       "    <tr>\n",
       "      <th>4</th>\n",
       "      <td>2021-11-07</td>\n",
       "      <td>Target group 1</td>\n",
       "      <td>124.41</td>\n",
       "      <td>50.0</td>\n",
       "      <td>156.5</td>\n",
       "      <td>1.188039</td>\n",
       "    </tr>\n",
       "    <tr>\n",
       "      <th>5</th>\n",
       "      <td>2021-11-08</td>\n",
       "      <td>Target group 1</td>\n",
       "      <td>108.72</td>\n",
       "      <td>29.0</td>\n",
       "      <td>156.5</td>\n",
       "      <td>1.112123</td>\n",
       "    </tr>\n",
       "    <tr>\n",
       "      <th>6</th>\n",
       "      <td>2021-11-09</td>\n",
       "      <td>Target group 1</td>\n",
       "      <td>148.93</td>\n",
       "      <td>45.0</td>\n",
       "      <td>156.5</td>\n",
       "      <td>1.133259</td>\n",
       "    </tr>\n",
       "    <tr>\n",
       "      <th>7</th>\n",
       "      <td>NaT</td>\n",
       "      <td>NaN</td>\n",
       "      <td>NaN</td>\n",
       "      <td>NaN</td>\n",
       "      <td>NaN</td>\n",
       "      <td>NaN</td>\n",
       "    </tr>\n",
       "    <tr>\n",
       "      <th>8</th>\n",
       "      <td>NaT</td>\n",
       "      <td>NaN</td>\n",
       "      <td>NaN</td>\n",
       "      <td>NaN</td>\n",
       "      <td>NaN</td>\n",
       "      <td>NaN</td>\n",
       "    </tr>\n",
       "    <tr>\n",
       "      <th>9</th>\n",
       "      <td>2021-11-03</td>\n",
       "      <td>Target group 2</td>\n",
       "      <td>288.58</td>\n",
       "      <td>152.0</td>\n",
       "      <td>276.5</td>\n",
       "      <td>1.254738</td>\n",
       "    </tr>\n",
       "    <tr>\n",
       "      <th>10</th>\n",
       "      <td>2021-11-04</td>\n",
       "      <td>Target group 2</td>\n",
       "      <td>290.63</td>\n",
       "      <td>124.0</td>\n",
       "      <td>276.5</td>\n",
       "      <td>1.196593</td>\n",
       "    </tr>\n",
       "    <tr>\n",
       "      <th>11</th>\n",
       "      <td>2021-11-05</td>\n",
       "      <td>Target group 2</td>\n",
       "      <td>302.01</td>\n",
       "      <td>104.0</td>\n",
       "      <td>276.5</td>\n",
       "      <td>1.131482</td>\n",
       "    </tr>\n",
       "    <tr>\n",
       "      <th>12</th>\n",
       "      <td>2021-11-06</td>\n",
       "      <td>Target group 2</td>\n",
       "      <td>308.20</td>\n",
       "      <td>111.0</td>\n",
       "      <td>276.5</td>\n",
       "      <td>1.124520</td>\n",
       "    </tr>\n",
       "    <tr>\n",
       "      <th>13</th>\n",
       "      <td>2021-11-07</td>\n",
       "      <td>Target group 2</td>\n",
       "      <td>303.29</td>\n",
       "      <td>89.0</td>\n",
       "      <td>276.5</td>\n",
       "      <td>1.108482</td>\n",
       "    </tr>\n",
       "    <tr>\n",
       "      <th>14</th>\n",
       "      <td>2021-11-08</td>\n",
       "      <td>Target group 2</td>\n",
       "      <td>301.84</td>\n",
       "      <td>99.0</td>\n",
       "      <td>276.5</td>\n",
       "      <td>1.088049</td>\n",
       "    </tr>\n",
       "    <tr>\n",
       "      <th>15</th>\n",
       "      <td>2021-11-09</td>\n",
       "      <td>Target group 2</td>\n",
       "      <td>266.70</td>\n",
       "      <td>68.0</td>\n",
       "      <td>276.5</td>\n",
       "      <td>1.078055</td>\n",
       "    </tr>\n",
       "    <tr>\n",
       "      <th>16</th>\n",
       "      <td>NaT</td>\n",
       "      <td>NaN</td>\n",
       "      <td>NaN</td>\n",
       "      <td>NaN</td>\n",
       "      <td>NaN</td>\n",
       "      <td>NaN</td>\n",
       "    </tr>\n",
       "    <tr>\n",
       "      <th>17</th>\n",
       "      <td>NaT</td>\n",
       "      <td>NaN</td>\n",
       "      <td>NaN</td>\n",
       "      <td>NaN</td>\n",
       "      <td>NaN</td>\n",
       "      <td>NaN</td>\n",
       "    </tr>\n",
       "    <tr>\n",
       "      <th>18</th>\n",
       "      <td>2021-11-03</td>\n",
       "      <td>Target group 3</td>\n",
       "      <td>72.35</td>\n",
       "      <td>34.0</td>\n",
       "      <td>67.0</td>\n",
       "      <td>1.165858</td>\n",
       "    </tr>\n",
       "    <tr>\n",
       "      <th>19</th>\n",
       "      <td>2021-11-04</td>\n",
       "      <td>Target group 3</td>\n",
       "      <td>71.98</td>\n",
       "      <td>16.0</td>\n",
       "      <td>67.0</td>\n",
       "      <td>1.120640</td>\n",
       "    </tr>\n",
       "    <tr>\n",
       "      <th>20</th>\n",
       "      <td>2021-11-05</td>\n",
       "      <td>Target group 3</td>\n",
       "      <td>75.05</td>\n",
       "      <td>21.0</td>\n",
       "      <td>67.0</td>\n",
       "      <td>1.135886</td>\n",
       "    </tr>\n",
       "    <tr>\n",
       "      <th>21</th>\n",
       "      <td>2021-11-06</td>\n",
       "      <td>Target group 3</td>\n",
       "      <td>76.34</td>\n",
       "      <td>28.0</td>\n",
       "      <td>67.0</td>\n",
       "      <td>1.077470</td>\n",
       "    </tr>\n",
       "    <tr>\n",
       "      <th>22</th>\n",
       "      <td>2021-11-07</td>\n",
       "      <td>Target group 3</td>\n",
       "      <td>75.47</td>\n",
       "      <td>22.0</td>\n",
       "      <td>67.0</td>\n",
       "      <td>1.086266</td>\n",
       "    </tr>\n",
       "    <tr>\n",
       "      <th>23</th>\n",
       "      <td>2021-11-08</td>\n",
       "      <td>Target group 3</td>\n",
       "      <td>68.72</td>\n",
       "      <td>15.0</td>\n",
       "      <td>67.0</td>\n",
       "      <td>1.065364</td>\n",
       "    </tr>\n",
       "    <tr>\n",
       "      <th>24</th>\n",
       "      <td>2021-11-09</td>\n",
       "      <td>Target group 3</td>\n",
       "      <td>64.19</td>\n",
       "      <td>18.0</td>\n",
       "      <td>67.0</td>\n",
       "      <td>1.058300</td>\n",
       "    </tr>\n",
       "  </tbody>\n",
       "</table>\n",
       "</div>"
      ],
      "text/plain": [
       "         Date     Ad set name  Amount spent  Actions  Ad set budget  Frequency\n",
       "0  2021-11-03  Target group 1        120.80     61.0          156.5   1.349448\n",
       "1  2021-11-04  Target group 1        119.23     37.0          156.5   1.250163\n",
       "2  2021-11-05  Target group 1        123.66     44.0          156.5   1.229454\n",
       "3  2021-11-06  Target group 1        130.73     46.0          156.5   1.215047\n",
       "4  2021-11-07  Target group 1        124.41     50.0          156.5   1.188039\n",
       "5  2021-11-08  Target group 1        108.72     29.0          156.5   1.112123\n",
       "6  2021-11-09  Target group 1        148.93     45.0          156.5   1.133259\n",
       "7         NaT             NaN           NaN      NaN            NaN        NaN\n",
       "8         NaT             NaN           NaN      NaN            NaN        NaN\n",
       "9  2021-11-03  Target group 2        288.58    152.0          276.5   1.254738\n",
       "10 2021-11-04  Target group 2        290.63    124.0          276.5   1.196593\n",
       "11 2021-11-05  Target group 2        302.01    104.0          276.5   1.131482\n",
       "12 2021-11-06  Target group 2        308.20    111.0          276.5   1.124520\n",
       "13 2021-11-07  Target group 2        303.29     89.0          276.5   1.108482\n",
       "14 2021-11-08  Target group 2        301.84     99.0          276.5   1.088049\n",
       "15 2021-11-09  Target group 2        266.70     68.0          276.5   1.078055\n",
       "16        NaT             NaN           NaN      NaN            NaN        NaN\n",
       "17        NaT             NaN           NaN      NaN            NaN        NaN\n",
       "18 2021-11-03  Target group 3         72.35     34.0           67.0   1.165858\n",
       "19 2021-11-04  Target group 3         71.98     16.0           67.0   1.120640\n",
       "20 2021-11-05  Target group 3         75.05     21.0           67.0   1.135886\n",
       "21 2021-11-06  Target group 3         76.34     28.0           67.0   1.077470\n",
       "22 2021-11-07  Target group 3         75.47     22.0           67.0   1.086266\n",
       "23 2021-11-08  Target group 3         68.72     15.0           67.0   1.065364\n",
       "24 2021-11-09  Target group 3         64.19     18.0           67.0   1.058300"
      ]
     },
     "execution_count": 2,
     "metadata": {},
     "output_type": "execute_result"
    }
   ],
   "source": [
    "pd.set_option('display.max_rows',None)\n",
    "df = pd.read_excel(r'Budget redistribution.xlsx')\n",
    "df"
   ]
  },
  {
   "cell_type": "code",
   "execution_count": 3,
   "id": "bb57f9af",
   "metadata": {},
   "outputs": [
    {
     "data": {
      "text/html": [
       "<div>\n",
       "<style scoped>\n",
       "    .dataframe tbody tr th:only-of-type {\n",
       "        vertical-align: middle;\n",
       "    }\n",
       "\n",
       "    .dataframe tbody tr th {\n",
       "        vertical-align: top;\n",
       "    }\n",
       "\n",
       "    .dataframe thead th {\n",
       "        text-align: right;\n",
       "    }\n",
       "</style>\n",
       "<table border=\"1\" class=\"dataframe\">\n",
       "  <thead>\n",
       "    <tr style=\"text-align: right;\">\n",
       "      <th></th>\n",
       "      <th>index</th>\n",
       "      <th>Date</th>\n",
       "      <th>Ad set name</th>\n",
       "      <th>Amount spent</th>\n",
       "      <th>Actions</th>\n",
       "      <th>Ad set budget</th>\n",
       "      <th>Frequency</th>\n",
       "    </tr>\n",
       "  </thead>\n",
       "  <tbody>\n",
       "    <tr>\n",
       "      <th>0</th>\n",
       "      <td>0</td>\n",
       "      <td>2021-11-03</td>\n",
       "      <td>Target group 1</td>\n",
       "      <td>120.80</td>\n",
       "      <td>61.0</td>\n",
       "      <td>156.5</td>\n",
       "      <td>1.349448</td>\n",
       "    </tr>\n",
       "    <tr>\n",
       "      <th>1</th>\n",
       "      <td>1</td>\n",
       "      <td>2021-11-04</td>\n",
       "      <td>Target group 1</td>\n",
       "      <td>119.23</td>\n",
       "      <td>37.0</td>\n",
       "      <td>156.5</td>\n",
       "      <td>1.250163</td>\n",
       "    </tr>\n",
       "    <tr>\n",
       "      <th>2</th>\n",
       "      <td>2</td>\n",
       "      <td>2021-11-05</td>\n",
       "      <td>Target group 1</td>\n",
       "      <td>123.66</td>\n",
       "      <td>44.0</td>\n",
       "      <td>156.5</td>\n",
       "      <td>1.229454</td>\n",
       "    </tr>\n",
       "    <tr>\n",
       "      <th>3</th>\n",
       "      <td>3</td>\n",
       "      <td>2021-11-06</td>\n",
       "      <td>Target group 1</td>\n",
       "      <td>130.73</td>\n",
       "      <td>46.0</td>\n",
       "      <td>156.5</td>\n",
       "      <td>1.215047</td>\n",
       "    </tr>\n",
       "    <tr>\n",
       "      <th>4</th>\n",
       "      <td>4</td>\n",
       "      <td>2021-11-07</td>\n",
       "      <td>Target group 1</td>\n",
       "      <td>124.41</td>\n",
       "      <td>50.0</td>\n",
       "      <td>156.5</td>\n",
       "      <td>1.188039</td>\n",
       "    </tr>\n",
       "    <tr>\n",
       "      <th>5</th>\n",
       "      <td>5</td>\n",
       "      <td>2021-11-08</td>\n",
       "      <td>Target group 1</td>\n",
       "      <td>108.72</td>\n",
       "      <td>29.0</td>\n",
       "      <td>156.5</td>\n",
       "      <td>1.112123</td>\n",
       "    </tr>\n",
       "    <tr>\n",
       "      <th>6</th>\n",
       "      <td>6</td>\n",
       "      <td>2021-11-09</td>\n",
       "      <td>Target group 1</td>\n",
       "      <td>148.93</td>\n",
       "      <td>45.0</td>\n",
       "      <td>156.5</td>\n",
       "      <td>1.133259</td>\n",
       "    </tr>\n",
       "    <tr>\n",
       "      <th>7</th>\n",
       "      <td>9</td>\n",
       "      <td>2021-11-03</td>\n",
       "      <td>Target group 2</td>\n",
       "      <td>288.58</td>\n",
       "      <td>152.0</td>\n",
       "      <td>276.5</td>\n",
       "      <td>1.254738</td>\n",
       "    </tr>\n",
       "    <tr>\n",
       "      <th>8</th>\n",
       "      <td>10</td>\n",
       "      <td>2021-11-04</td>\n",
       "      <td>Target group 2</td>\n",
       "      <td>290.63</td>\n",
       "      <td>124.0</td>\n",
       "      <td>276.5</td>\n",
       "      <td>1.196593</td>\n",
       "    </tr>\n",
       "    <tr>\n",
       "      <th>9</th>\n",
       "      <td>11</td>\n",
       "      <td>2021-11-05</td>\n",
       "      <td>Target group 2</td>\n",
       "      <td>302.01</td>\n",
       "      <td>104.0</td>\n",
       "      <td>276.5</td>\n",
       "      <td>1.131482</td>\n",
       "    </tr>\n",
       "    <tr>\n",
       "      <th>10</th>\n",
       "      <td>12</td>\n",
       "      <td>2021-11-06</td>\n",
       "      <td>Target group 2</td>\n",
       "      <td>308.20</td>\n",
       "      <td>111.0</td>\n",
       "      <td>276.5</td>\n",
       "      <td>1.124520</td>\n",
       "    </tr>\n",
       "    <tr>\n",
       "      <th>11</th>\n",
       "      <td>13</td>\n",
       "      <td>2021-11-07</td>\n",
       "      <td>Target group 2</td>\n",
       "      <td>303.29</td>\n",
       "      <td>89.0</td>\n",
       "      <td>276.5</td>\n",
       "      <td>1.108482</td>\n",
       "    </tr>\n",
       "    <tr>\n",
       "      <th>12</th>\n",
       "      <td>14</td>\n",
       "      <td>2021-11-08</td>\n",
       "      <td>Target group 2</td>\n",
       "      <td>301.84</td>\n",
       "      <td>99.0</td>\n",
       "      <td>276.5</td>\n",
       "      <td>1.088049</td>\n",
       "    </tr>\n",
       "    <tr>\n",
       "      <th>13</th>\n",
       "      <td>15</td>\n",
       "      <td>2021-11-09</td>\n",
       "      <td>Target group 2</td>\n",
       "      <td>266.70</td>\n",
       "      <td>68.0</td>\n",
       "      <td>276.5</td>\n",
       "      <td>1.078055</td>\n",
       "    </tr>\n",
       "    <tr>\n",
       "      <th>14</th>\n",
       "      <td>18</td>\n",
       "      <td>2021-11-03</td>\n",
       "      <td>Target group 3</td>\n",
       "      <td>72.35</td>\n",
       "      <td>34.0</td>\n",
       "      <td>67.0</td>\n",
       "      <td>1.165858</td>\n",
       "    </tr>\n",
       "    <tr>\n",
       "      <th>15</th>\n",
       "      <td>19</td>\n",
       "      <td>2021-11-04</td>\n",
       "      <td>Target group 3</td>\n",
       "      <td>71.98</td>\n",
       "      <td>16.0</td>\n",
       "      <td>67.0</td>\n",
       "      <td>1.120640</td>\n",
       "    </tr>\n",
       "    <tr>\n",
       "      <th>16</th>\n",
       "      <td>20</td>\n",
       "      <td>2021-11-05</td>\n",
       "      <td>Target group 3</td>\n",
       "      <td>75.05</td>\n",
       "      <td>21.0</td>\n",
       "      <td>67.0</td>\n",
       "      <td>1.135886</td>\n",
       "    </tr>\n",
       "    <tr>\n",
       "      <th>17</th>\n",
       "      <td>21</td>\n",
       "      <td>2021-11-06</td>\n",
       "      <td>Target group 3</td>\n",
       "      <td>76.34</td>\n",
       "      <td>28.0</td>\n",
       "      <td>67.0</td>\n",
       "      <td>1.077470</td>\n",
       "    </tr>\n",
       "    <tr>\n",
       "      <th>18</th>\n",
       "      <td>22</td>\n",
       "      <td>2021-11-07</td>\n",
       "      <td>Target group 3</td>\n",
       "      <td>75.47</td>\n",
       "      <td>22.0</td>\n",
       "      <td>67.0</td>\n",
       "      <td>1.086266</td>\n",
       "    </tr>\n",
       "    <tr>\n",
       "      <th>19</th>\n",
       "      <td>23</td>\n",
       "      <td>2021-11-08</td>\n",
       "      <td>Target group 3</td>\n",
       "      <td>68.72</td>\n",
       "      <td>15.0</td>\n",
       "      <td>67.0</td>\n",
       "      <td>1.065364</td>\n",
       "    </tr>\n",
       "    <tr>\n",
       "      <th>20</th>\n",
       "      <td>24</td>\n",
       "      <td>2021-11-09</td>\n",
       "      <td>Target group 3</td>\n",
       "      <td>64.19</td>\n",
       "      <td>18.0</td>\n",
       "      <td>67.0</td>\n",
       "      <td>1.058300</td>\n",
       "    </tr>\n",
       "  </tbody>\n",
       "</table>\n",
       "</div>"
      ],
      "text/plain": [
       "    index       Date     Ad set name  Amount spent  Actions  Ad set budget  \\\n",
       "0       0 2021-11-03  Target group 1        120.80     61.0          156.5   \n",
       "1       1 2021-11-04  Target group 1        119.23     37.0          156.5   \n",
       "2       2 2021-11-05  Target group 1        123.66     44.0          156.5   \n",
       "3       3 2021-11-06  Target group 1        130.73     46.0          156.5   \n",
       "4       4 2021-11-07  Target group 1        124.41     50.0          156.5   \n",
       "5       5 2021-11-08  Target group 1        108.72     29.0          156.5   \n",
       "6       6 2021-11-09  Target group 1        148.93     45.0          156.5   \n",
       "7       9 2021-11-03  Target group 2        288.58    152.0          276.5   \n",
       "8      10 2021-11-04  Target group 2        290.63    124.0          276.5   \n",
       "9      11 2021-11-05  Target group 2        302.01    104.0          276.5   \n",
       "10     12 2021-11-06  Target group 2        308.20    111.0          276.5   \n",
       "11     13 2021-11-07  Target group 2        303.29     89.0          276.5   \n",
       "12     14 2021-11-08  Target group 2        301.84     99.0          276.5   \n",
       "13     15 2021-11-09  Target group 2        266.70     68.0          276.5   \n",
       "14     18 2021-11-03  Target group 3         72.35     34.0           67.0   \n",
       "15     19 2021-11-04  Target group 3         71.98     16.0           67.0   \n",
       "16     20 2021-11-05  Target group 3         75.05     21.0           67.0   \n",
       "17     21 2021-11-06  Target group 3         76.34     28.0           67.0   \n",
       "18     22 2021-11-07  Target group 3         75.47     22.0           67.0   \n",
       "19     23 2021-11-08  Target group 3         68.72     15.0           67.0   \n",
       "20     24 2021-11-09  Target group 3         64.19     18.0           67.0   \n",
       "\n",
       "    Frequency  \n",
       "0    1.349448  \n",
       "1    1.250163  \n",
       "2    1.229454  \n",
       "3    1.215047  \n",
       "4    1.188039  \n",
       "5    1.112123  \n",
       "6    1.133259  \n",
       "7    1.254738  \n",
       "8    1.196593  \n",
       "9    1.131482  \n",
       "10   1.124520  \n",
       "11   1.108482  \n",
       "12   1.088049  \n",
       "13   1.078055  \n",
       "14   1.165858  \n",
       "15   1.120640  \n",
       "16   1.135886  \n",
       "17   1.077470  \n",
       "18   1.086266  \n",
       "19   1.065364  \n",
       "20   1.058300  "
      ]
     },
     "execution_count": 3,
     "metadata": {},
     "output_type": "execute_result"
    }
   ],
   "source": [
    "# Removing NaN\n",
    "df.dropna(axis=0,inplace=True)\n",
    "df.reset_index()"
   ]
  },
  {
   "cell_type": "code",
   "execution_count": 4,
   "id": "983e54f4",
   "metadata": {},
   "outputs": [
    {
     "data": {
      "text/plain": [
       "Date             datetime64[ns]\n",
       "Ad set name              object\n",
       "Amount spent            float64\n",
       "Actions                 float64\n",
       "Ad set budget           float64\n",
       "Frequency               float64\n",
       "dtype: object"
      ]
     },
     "execution_count": 4,
     "metadata": {},
     "output_type": "execute_result"
    }
   ],
   "source": [
    "df.dtypes"
   ]
  },
  {
   "cell_type": "code",
   "execution_count": 5,
   "id": "f589551a",
   "metadata": {},
   "outputs": [
    {
     "data": {
      "text/plain": [
       "<matplotlib.collections.PathCollection at 0x24cfd8e4160>"
      ]
     },
     "execution_count": 5,
     "metadata": {},
     "output_type": "execute_result"
    },
    {
     "data": {
      "image/png": "[encoded data removed]",
      "text/plain": [
       "<Figure size 432x288 with 1 Axes>"
      ]
     },
     "metadata": {
      "needs_background": "light"
     },
     "output_type": "display_data"
    }
   ],
   "source": [
    "plt.scatter(data=df,x='Frequency',y = 'Actions')"
   ]
  },
  {
   "cell_type": "markdown",
   "id": "1137b3e1",
   "metadata": {},
   "source": [
    "Here we can observe majority of Actions are performed at low frequency"
   ]
  },
  {
   "cell_type": "code",
   "execution_count": 6,
   "id": "cec0aaaf",
   "metadata": {},
   "outputs": [
    {
     "data": {
      "text/plain": [
       "<matplotlib.collections.PathCollection at 0x24cfe05ab80>"
      ]
     },
     "execution_count": 6,
     "metadata": {},
     "output_type": "execute_result"
    },
    {
     "data": {
      "image/png": "[encoded data removed]",
      "text/plain": [
       "<Figure size 432x288 with 1 Axes>"
      ]
     },
     "metadata": {
      "needs_background": "light"
     },
     "output_type": "display_data"
    }
   ],
   "source": [
    "plt.scatter(data=df,x='Frequency',y = 'Amount spent')"
   ]
  },
  {
   "cell_type": "code",
   "execution_count": 7,
   "id": "7b009380",
   "metadata": {},
   "outputs": [
    {
     "data": {
      "text/plain": [
       "<matplotlib.collections.PathCollection at 0x24cfe0b9bb0>"
      ]
     },
     "execution_count": 7,
     "metadata": {},
     "output_type": "execute_result"
    },
    {
     "data": {
      "image/png": "[encoded data removed]",
      "text/plain": [
       "<Figure size 432x288 with 1 Axes>"
      ]
     },
     "metadata": {
      "needs_background": "light"
     },
     "output_type": "display_data"
    }
   ],
   "source": [
    "plt.scatter(data=df,x='Amount spent',y = 'Actions')"
   ]
  },
  {
   "cell_type": "markdown",
   "id": "c9cf73a6",
   "metadata": {},
   "source": [
    "Here we can observe that as the amount increases the actions also increases"
   ]
  },
  {
   "cell_type": "code",
   "execution_count": 8,
   "id": "a741a3c1",
   "metadata": {},
   "outputs": [
    {
     "data": {
      "text/plain": [
       "(array([0, 1, 2]),\n",
       " [Text(0, 0, 'Target group 1'),\n",
       "  Text(1, 0, 'Target group 2'),\n",
       "  Text(2, 0, 'Target group 3')])"
      ]
     },
     "execution_count": 8,
     "metadata": {},
     "output_type": "execute_result"
    },
    {
     "data": {
      "image/png": "[encoded data removed]",
      "text/plain": [
       "<Figure size 432x288 with 1 Axes>"
      ]
     },
     "metadata": {
      "needs_background": "light"
     },
     "output_type": "display_data"
    }
   ],
   "source": [
    "sns.barplot(x=\"Ad set name\",y=\"Actions\", data=df,estimator=np.mean)\n",
    "plt.xticks(rotation=90)"
   ]
  },
  {
   "cell_type": "markdown",
   "id": "bfa72d3c",
   "metadata": {},
   "source": [
    "Target group 2 has higher actions than group 1 than group 3"
   ]
  },
  {
   "cell_type": "code",
   "execution_count": 9,
   "id": "63269b26",
   "metadata": {},
   "outputs": [
    {
     "data": {
      "text/plain": [
       "'\\n1. First we have to see the future predictions of Actions if we kept the budget same as it is \\n2. We apply our algorithms and do the predictions again and compare with initial model\\n'"
      ]
     },
     "execution_count": 9,
     "metadata": {},
     "output_type": "execute_result"
    }
   ],
   "source": [
    "'''\n",
    "1. First we have to see the future predictions of Actions if we kept the budget same as it is \n",
    "2. We apply our algorithms and do the predictions again and compare with initial model\n",
    "'''"
   ]
  },
  {
   "cell_type": "code",
   "execution_count": 10,
   "id": "4d1f2f01",
   "metadata": {},
   "outputs": [],
   "source": [
    "# Separating target group 1,2,3\n",
    "df_target_group1 = df[df['Ad set name']=='Target group 1']\n",
    "df_target_group2 = df[df['Ad set name']=='Target group 2']\n",
    "df_target_group3 = df[df['Ad set name']=='Target group 3']"
   ]
  },
  {
   "cell_type": "code",
   "execution_count": 11,
   "id": "64ece024",
   "metadata": {},
   "outputs": [],
   "source": [
    "df1 = df_target_group1[['Date','Actions']]\n",
    "df2 = df_target_group2[['Date','Actions']]\n",
    "df3 = df_target_group3[['Date','Actions']]"
   ]
  },
  {
   "cell_type": "code",
   "execution_count": 12,
   "id": "0deee6ac",
   "metadata": {},
   "outputs": [
    {
     "data": {
      "text/html": [
       "<div>\n",
       "<style scoped>\n",
       "    .dataframe tbody tr th:only-of-type {\n",
       "        vertical-align: middle;\n",
       "    }\n",
       "\n",
       "    .dataframe tbody tr th {\n",
       "        vertical-align: top;\n",
       "    }\n",
       "\n",
       "    .dataframe thead th {\n",
       "        text-align: right;\n",
       "    }\n",
       "</style>\n",
       "<table border=\"1\" class=\"dataframe\">\n",
       "  <thead>\n",
       "    <tr style=\"text-align: right;\">\n",
       "      <th></th>\n",
       "      <th>Date</th>\n",
       "      <th>Actions</th>\n",
       "    </tr>\n",
       "  </thead>\n",
       "  <tbody>\n",
       "    <tr>\n",
       "      <th>0</th>\n",
       "      <td>2021-11-03</td>\n",
       "      <td>61.0</td>\n",
       "    </tr>\n",
       "    <tr>\n",
       "      <th>1</th>\n",
       "      <td>2021-11-04</td>\n",
       "      <td>37.0</td>\n",
       "    </tr>\n",
       "    <tr>\n",
       "      <th>2</th>\n",
       "      <td>2021-11-05</td>\n",
       "      <td>44.0</td>\n",
       "    </tr>\n",
       "    <tr>\n",
       "      <th>3</th>\n",
       "      <td>2021-11-06</td>\n",
       "      <td>46.0</td>\n",
       "    </tr>\n",
       "    <tr>\n",
       "      <th>4</th>\n",
       "      <td>2021-11-07</td>\n",
       "      <td>50.0</td>\n",
       "    </tr>\n",
       "    <tr>\n",
       "      <th>5</th>\n",
       "      <td>2021-11-08</td>\n",
       "      <td>29.0</td>\n",
       "    </tr>\n",
       "    <tr>\n",
       "      <th>6</th>\n",
       "      <td>2021-11-09</td>\n",
       "      <td>45.0</td>\n",
       "    </tr>\n",
       "  </tbody>\n",
       "</table>\n",
       "</div>"
      ],
      "text/plain": [
       "        Date  Actions\n",
       "0 2021-11-03     61.0\n",
       "1 2021-11-04     37.0\n",
       "2 2021-11-05     44.0\n",
       "3 2021-11-06     46.0\n",
       "4 2021-11-07     50.0\n",
       "5 2021-11-08     29.0\n",
       "6 2021-11-09     45.0"
      ]
     },
     "execution_count": 12,
     "metadata": {},
     "output_type": "execute_result"
    }
   ],
   "source": [
    "df1.head(7)"
   ]
  },
  {
   "cell_type": "code",
   "execution_count": 13,
   "id": "1cf8e63a",
   "metadata": {},
   "outputs": [],
   "source": [
    "df1 = df1.set_index('Date')\n",
    "df2 = df2.set_index('Date')\n",
    "df3 = df3.set_index('Date')"
   ]
  },
  {
   "cell_type": "code",
   "execution_count": 14,
   "id": "2f0888d9",
   "metadata": {},
   "outputs": [
    {
     "data": {
      "text/html": [
       "<div>\n",
       "<style scoped>\n",
       "    .dataframe tbody tr th:only-of-type {\n",
       "        vertical-align: middle;\n",
       "    }\n",
       "\n",
       "    .dataframe tbody tr th {\n",
       "        vertical-align: top;\n",
       "    }\n",
       "\n",
       "    .dataframe thead th {\n",
       "        text-align: right;\n",
       "    }\n",
       "</style>\n",
       "<table border=\"1\" class=\"dataframe\">\n",
       "  <thead>\n",
       "    <tr style=\"text-align: right;\">\n",
       "      <th></th>\n",
       "      <th>Actions</th>\n",
       "    </tr>\n",
       "    <tr>\n",
       "      <th>Date</th>\n",
       "      <th></th>\n",
       "    </tr>\n",
       "  </thead>\n",
       "  <tbody>\n",
       "    <tr>\n",
       "      <th>2021-11-03</th>\n",
       "      <td>61.0</td>\n",
       "    </tr>\n",
       "    <tr>\n",
       "      <th>2021-11-04</th>\n",
       "      <td>37.0</td>\n",
       "    </tr>\n",
       "    <tr>\n",
       "      <th>2021-11-05</th>\n",
       "      <td>44.0</td>\n",
       "    </tr>\n",
       "    <tr>\n",
       "      <th>2021-11-06</th>\n",
       "      <td>46.0</td>\n",
       "    </tr>\n",
       "    <tr>\n",
       "      <th>2021-11-07</th>\n",
       "      <td>50.0</td>\n",
       "    </tr>\n",
       "    <tr>\n",
       "      <th>2021-11-08</th>\n",
       "      <td>29.0</td>\n",
       "    </tr>\n",
       "    <tr>\n",
       "      <th>2021-11-09</th>\n",
       "      <td>45.0</td>\n",
       "    </tr>\n",
       "  </tbody>\n",
       "</table>\n",
       "</div>"
      ],
      "text/plain": [
       "            Actions\n",
       "Date               \n",
       "2021-11-03     61.0\n",
       "2021-11-04     37.0\n",
       "2021-11-05     44.0\n",
       "2021-11-06     46.0\n",
       "2021-11-07     50.0\n",
       "2021-11-08     29.0\n",
       "2021-11-09     45.0"
      ]
     },
     "execution_count": 14,
     "metadata": {},
     "output_type": "execute_result"
    }
   ],
   "source": [
    "df1"
   ]
  },
  {
   "cell_type": "code",
   "execution_count": 15,
   "id": "5c4b9e2f",
   "metadata": {},
   "outputs": [],
   "source": [
    "y1 = df1['Actions'].resample(\"D\").mean()  "
   ]
  },
  {
   "cell_type": "code",
   "execution_count": 16,
   "id": "2d0a922e",
   "metadata": {},
   "outputs": [
    {
     "data": {
      "text/plain": [
       "Date\n",
       "2021-11-03    61.0\n",
       "2021-11-04    37.0\n",
       "2021-11-05    44.0\n",
       "2021-11-06    46.0\n",
       "2021-11-07    50.0\n",
       "2021-11-08    29.0\n",
       "2021-11-09    45.0\n",
       "Freq: D, Name: Actions, dtype: float64"
      ]
     },
     "execution_count": 16,
     "metadata": {},
     "output_type": "execute_result"
    }
   ],
   "source": [
    "y1"
   ]
  },
  {
   "cell_type": "code",
   "execution_count": 17,
   "id": "733f5e77",
   "metadata": {},
   "outputs": [
    {
     "data": {
      "image/png": "[encoded data removed]",
      "text/plain": [
       "<Figure size 720x432 with 1 Axes>"
      ]
     },
     "metadata": {
      "needs_background": "light"
     },
     "output_type": "display_data"
    }
   ],
   "source": [
    "y1.plot(figsize=(10, 6))\n",
    "plt.show() "
   ]
  },
  {
   "cell_type": "code",
   "execution_count": 18,
   "id": "f123705f",
   "metadata": {},
   "outputs": [],
   "source": [
    "y2 = df2['Actions'].resample(\"D\").mean()\n",
    "y3 = df3['Actions'].resample(\"D\").mean()"
   ]
  },
  {
   "cell_type": "code",
   "execution_count": 19,
   "id": "19816140",
   "metadata": {},
   "outputs": [
    {
     "data": {
      "image/png": "[encoded data removed]",
      "text/plain": [
       "<Figure size 720x432 with 1 Axes>"
      ]
     },
     "metadata": {
      "needs_background": "light"
     },
     "output_type": "display_data"
    }
   ],
   "source": [
    "y2.plot(figsize=(10, 6))\n",
    "plt.show() "
   ]
  },
  {
   "cell_type": "code",
   "execution_count": 20,
   "id": "0cd27b50",
   "metadata": {},
   "outputs": [
    {
     "data": {
      "image/png": "[encoded data removed]",
      "text/plain": [
       "<Figure size 720x432 with 1 Axes>"
      ]
     },
     "metadata": {
      "needs_background": "light"
     },
     "output_type": "display_data"
    }
   ],
   "source": [
    "y3.plot(figsize=(10, 6))\n",
    "plt.show() "
   ]
  },
  {
   "cell_type": "code",
   "execution_count": 21,
   "id": "80cc5a8c",
   "metadata": {},
   "outputs": [
    {
     "data": {
      "text/html": [
       "<div>\n",
       "<style scoped>\n",
       "    .dataframe tbody tr th:only-of-type {\n",
       "        vertical-align: middle;\n",
       "    }\n",
       "\n",
       "    .dataframe tbody tr th {\n",
       "        vertical-align: top;\n",
       "    }\n",
       "\n",
       "    .dataframe thead th {\n",
       "        text-align: right;\n",
       "    }\n",
       "</style>\n",
       "<table border=\"1\" class=\"dataframe\">\n",
       "  <thead>\n",
       "    <tr style=\"text-align: right;\">\n",
       "      <th></th>\n",
       "      <th>Ad set name</th>\n",
       "      <th>Amount spent</th>\n",
       "      <th>Actions</th>\n",
       "      <th>Ad set budget</th>\n",
       "      <th>Frequency</th>\n",
       "    </tr>\n",
       "    <tr>\n",
       "      <th>Date</th>\n",
       "      <th></th>\n",
       "      <th></th>\n",
       "      <th></th>\n",
       "      <th></th>\n",
       "      <th></th>\n",
       "    </tr>\n",
       "  </thead>\n",
       "  <tbody>\n",
       "    <tr>\n",
       "      <th>2021-11-03</th>\n",
       "      <td>Target group 1</td>\n",
       "      <td>120.80</td>\n",
       "      <td>61.0</td>\n",
       "      <td>156.5</td>\n",
       "      <td>1.349448</td>\n",
       "    </tr>\n",
       "    <tr>\n",
       "      <th>2021-11-04</th>\n",
       "      <td>Target group 1</td>\n",
       "      <td>119.23</td>\n",
       "      <td>37.0</td>\n",
       "      <td>156.5</td>\n",
       "      <td>1.250163</td>\n",
       "    </tr>\n",
       "    <tr>\n",
       "      <th>2021-11-05</th>\n",
       "      <td>Target group 1</td>\n",
       "      <td>123.66</td>\n",
       "      <td>44.0</td>\n",
       "      <td>156.5</td>\n",
       "      <td>1.229454</td>\n",
       "    </tr>\n",
       "    <tr>\n",
       "      <th>2021-11-06</th>\n",
       "      <td>Target group 1</td>\n",
       "      <td>130.73</td>\n",
       "      <td>46.0</td>\n",
       "      <td>156.5</td>\n",
       "      <td>1.215047</td>\n",
       "    </tr>\n",
       "    <tr>\n",
       "      <th>2021-11-07</th>\n",
       "      <td>Target group 1</td>\n",
       "      <td>124.41</td>\n",
       "      <td>50.0</td>\n",
       "      <td>156.5</td>\n",
       "      <td>1.188039</td>\n",
       "    </tr>\n",
       "    <tr>\n",
       "      <th>2021-11-08</th>\n",
       "      <td>Target group 1</td>\n",
       "      <td>108.72</td>\n",
       "      <td>29.0</td>\n",
       "      <td>156.5</td>\n",
       "      <td>1.112123</td>\n",
       "    </tr>\n",
       "    <tr>\n",
       "      <th>2021-11-09</th>\n",
       "      <td>Target group 1</td>\n",
       "      <td>148.93</td>\n",
       "      <td>45.0</td>\n",
       "      <td>156.5</td>\n",
       "      <td>1.133259</td>\n",
       "    </tr>\n",
       "    <tr>\n",
       "      <th>NaT</th>\n",
       "      <td>NaN</td>\n",
       "      <td>NaN</td>\n",
       "      <td>NaN</td>\n",
       "      <td>NaN</td>\n",
       "      <td>NaN</td>\n",
       "    </tr>\n",
       "    <tr>\n",
       "      <th>NaT</th>\n",
       "      <td>NaN</td>\n",
       "      <td>NaN</td>\n",
       "      <td>NaN</td>\n",
       "      <td>NaN</td>\n",
       "      <td>NaN</td>\n",
       "    </tr>\n",
       "    <tr>\n",
       "      <th>2021-11-03</th>\n",
       "      <td>Target group 2</td>\n",
       "      <td>288.58</td>\n",
       "      <td>152.0</td>\n",
       "      <td>276.5</td>\n",
       "      <td>1.254738</td>\n",
       "    </tr>\n",
       "    <tr>\n",
       "      <th>2021-11-04</th>\n",
       "      <td>Target group 2</td>\n",
       "      <td>290.63</td>\n",
       "      <td>124.0</td>\n",
       "      <td>276.5</td>\n",
       "      <td>1.196593</td>\n",
       "    </tr>\n",
       "    <tr>\n",
       "      <th>2021-11-05</th>\n",
       "      <td>Target group 2</td>\n",
       "      <td>302.01</td>\n",
       "      <td>104.0</td>\n",
       "      <td>276.5</td>\n",
       "      <td>1.131482</td>\n",
       "    </tr>\n",
       "    <tr>\n",
       "      <th>2021-11-06</th>\n",
       "      <td>Target group 2</td>\n",
       "      <td>308.20</td>\n",
       "      <td>111.0</td>\n",
       "      <td>276.5</td>\n",
       "      <td>1.124520</td>\n",
       "    </tr>\n",
       "    <tr>\n",
       "      <th>2021-11-07</th>\n",
       "      <td>Target group 2</td>\n",
       "      <td>303.29</td>\n",
       "      <td>89.0</td>\n",
       "      <td>276.5</td>\n",
       "      <td>1.108482</td>\n",
       "    </tr>\n",
       "    <tr>\n",
       "      <th>2021-11-08</th>\n",
       "      <td>Target group 2</td>\n",
       "      <td>301.84</td>\n",
       "      <td>99.0</td>\n",
       "      <td>276.5</td>\n",
       "      <td>1.088049</td>\n",
       "    </tr>\n",
       "    <tr>\n",
       "      <th>2021-11-09</th>\n",
       "      <td>Target group 2</td>\n",
       "      <td>266.70</td>\n",
       "      <td>68.0</td>\n",
       "      <td>276.5</td>\n",
       "      <td>1.078055</td>\n",
       "    </tr>\n",
       "    <tr>\n",
       "      <th>NaT</th>\n",
       "      <td>NaN</td>\n",
       "      <td>NaN</td>\n",
       "      <td>NaN</td>\n",
       "      <td>NaN</td>\n",
       "      <td>NaN</td>\n",
       "    </tr>\n",
       "    <tr>\n",
       "      <th>NaT</th>\n",
       "      <td>NaN</td>\n",
       "      <td>NaN</td>\n",
       "      <td>NaN</td>\n",
       "      <td>NaN</td>\n",
       "      <td>NaN</td>\n",
       "    </tr>\n",
       "    <tr>\n",
       "      <th>2021-11-03</th>\n",
       "      <td>Target group 3</td>\n",
       "      <td>72.35</td>\n",
       "      <td>34.0</td>\n",
       "      <td>67.0</td>\n",
       "      <td>1.165858</td>\n",
       "    </tr>\n",
       "    <tr>\n",
       "      <th>2021-11-04</th>\n",
       "      <td>Target group 3</td>\n",
       "      <td>71.98</td>\n",
       "      <td>16.0</td>\n",
       "      <td>67.0</td>\n",
       "      <td>1.120640</td>\n",
       "    </tr>\n",
       "    <tr>\n",
       "      <th>2021-11-05</th>\n",
       "      <td>Target group 3</td>\n",
       "      <td>75.05</td>\n",
       "      <td>21.0</td>\n",
       "      <td>67.0</td>\n",
       "      <td>1.135886</td>\n",
       "    </tr>\n",
       "    <tr>\n",
       "      <th>2021-11-06</th>\n",
       "      <td>Target group 3</td>\n",
       "      <td>76.34</td>\n",
       "      <td>28.0</td>\n",
       "      <td>67.0</td>\n",
       "      <td>1.077470</td>\n",
       "    </tr>\n",
       "    <tr>\n",
       "      <th>2021-11-07</th>\n",
       "      <td>Target group 3</td>\n",
       "      <td>75.47</td>\n",
       "      <td>22.0</td>\n",
       "      <td>67.0</td>\n",
       "      <td>1.086266</td>\n",
       "    </tr>\n",
       "    <tr>\n",
       "      <th>2021-11-08</th>\n",
       "      <td>Target group 3</td>\n",
       "      <td>68.72</td>\n",
       "      <td>15.0</td>\n",
       "      <td>67.0</td>\n",
       "      <td>1.065364</td>\n",
       "    </tr>\n",
       "    <tr>\n",
       "      <th>2021-11-09</th>\n",
       "      <td>Target group 3</td>\n",
       "      <td>64.19</td>\n",
       "      <td>18.0</td>\n",
       "      <td>67.0</td>\n",
       "      <td>1.058300</td>\n",
       "    </tr>\n",
       "  </tbody>\n",
       "</table>\n",
       "</div>"
      ],
      "text/plain": [
       "               Ad set name  Amount spent  Actions  Ad set budget  Frequency\n",
       "Date                                                                       \n",
       "2021-11-03  Target group 1        120.80     61.0          156.5   1.349448\n",
       "2021-11-04  Target group 1        119.23     37.0          156.5   1.250163\n",
       "2021-11-05  Target group 1        123.66     44.0          156.5   1.229454\n",
       "2021-11-06  Target group 1        130.73     46.0          156.5   1.215047\n",
       "2021-11-07  Target group 1        124.41     50.0          156.5   1.188039\n",
       "2021-11-08  Target group 1        108.72     29.0          156.5   1.112123\n",
       "2021-11-09  Target group 1        148.93     45.0          156.5   1.133259\n",
       "NaT                    NaN           NaN      NaN            NaN        NaN\n",
       "NaT                    NaN           NaN      NaN            NaN        NaN\n",
       "2021-11-03  Target group 2        288.58    152.0          276.5   1.254738\n",
       "2021-11-04  Target group 2        290.63    124.0          276.5   1.196593\n",
       "2021-11-05  Target group 2        302.01    104.0          276.5   1.131482\n",
       "2021-11-06  Target group 2        308.20    111.0          276.5   1.124520\n",
       "2021-11-07  Target group 2        303.29     89.0          276.5   1.108482\n",
       "2021-11-08  Target group 2        301.84     99.0          276.5   1.088049\n",
       "2021-11-09  Target group 2        266.70     68.0          276.5   1.078055\n",
       "NaT                    NaN           NaN      NaN            NaN        NaN\n",
       "NaT                    NaN           NaN      NaN            NaN        NaN\n",
       "2021-11-03  Target group 3         72.35     34.0           67.0   1.165858\n",
       "2021-11-04  Target group 3         71.98     16.0           67.0   1.120640\n",
       "2021-11-05  Target group 3         75.05     21.0           67.0   1.135886\n",
       "2021-11-06  Target group 3         76.34     28.0           67.0   1.077470\n",
       "2021-11-07  Target group 3         75.47     22.0           67.0   1.086266\n",
       "2021-11-08  Target group 3         68.72     15.0           67.0   1.065364\n",
       "2021-11-09  Target group 3         64.19     18.0           67.0   1.058300"
      ]
     },
     "execution_count": 21,
     "metadata": {},
     "output_type": "execute_result"
    }
   ],
   "source": [
    "# Implementing Algorithms for Budget Distriution\n",
    "df = pd.read_excel(r'Budget redistribution.xlsx',index_col = 0)\n",
    "df"
   ]
  },
  {
   "cell_type": "code",
   "execution_count": 22,
   "id": "74656452",
   "metadata": {},
   "outputs": [
    {
     "data": {
      "text/html": [
       "<div>\n",
       "<style scoped>\n",
       "    .dataframe tbody tr th:only-of-type {\n",
       "        vertical-align: middle;\n",
       "    }\n",
       "\n",
       "    .dataframe tbody tr th {\n",
       "        vertical-align: top;\n",
       "    }\n",
       "\n",
       "    .dataframe thead th {\n",
       "        text-align: right;\n",
       "    }\n",
       "</style>\n",
       "<table border=\"1\" class=\"dataframe\">\n",
       "  <thead>\n",
       "    <tr style=\"text-align: right;\">\n",
       "      <th></th>\n",
       "      <th>Date</th>\n",
       "      <th>Ad set name</th>\n",
       "      <th>Amount spent</th>\n",
       "      <th>Actions</th>\n",
       "      <th>Ad set budget</th>\n",
       "      <th>Frequency</th>\n",
       "    </tr>\n",
       "  </thead>\n",
       "  <tbody>\n",
       "    <tr>\n",
       "      <th>0</th>\n",
       "      <td>2021-11-03</td>\n",
       "      <td>Target group 1</td>\n",
       "      <td>120.80</td>\n",
       "      <td>61.0</td>\n",
       "      <td>156.5</td>\n",
       "      <td>1.349448</td>\n",
       "    </tr>\n",
       "    <tr>\n",
       "      <th>1</th>\n",
       "      <td>2021-11-04</td>\n",
       "      <td>Target group 1</td>\n",
       "      <td>119.23</td>\n",
       "      <td>37.0</td>\n",
       "      <td>156.5</td>\n",
       "      <td>1.250163</td>\n",
       "    </tr>\n",
       "    <tr>\n",
       "      <th>2</th>\n",
       "      <td>2021-11-05</td>\n",
       "      <td>Target group 1</td>\n",
       "      <td>123.66</td>\n",
       "      <td>44.0</td>\n",
       "      <td>156.5</td>\n",
       "      <td>1.229454</td>\n",
       "    </tr>\n",
       "    <tr>\n",
       "      <th>3</th>\n",
       "      <td>2021-11-06</td>\n",
       "      <td>Target group 1</td>\n",
       "      <td>130.73</td>\n",
       "      <td>46.0</td>\n",
       "      <td>156.5</td>\n",
       "      <td>1.215047</td>\n",
       "    </tr>\n",
       "    <tr>\n",
       "      <th>4</th>\n",
       "      <td>2021-11-07</td>\n",
       "      <td>Target group 1</td>\n",
       "      <td>124.41</td>\n",
       "      <td>50.0</td>\n",
       "      <td>156.5</td>\n",
       "      <td>1.188039</td>\n",
       "    </tr>\n",
       "    <tr>\n",
       "      <th>5</th>\n",
       "      <td>2021-11-08</td>\n",
       "      <td>Target group 1</td>\n",
       "      <td>108.72</td>\n",
       "      <td>29.0</td>\n",
       "      <td>156.5</td>\n",
       "      <td>1.112123</td>\n",
       "    </tr>\n",
       "    <tr>\n",
       "      <th>6</th>\n",
       "      <td>2021-11-09</td>\n",
       "      <td>Target group 1</td>\n",
       "      <td>148.93</td>\n",
       "      <td>45.0</td>\n",
       "      <td>156.5</td>\n",
       "      <td>1.133259</td>\n",
       "    </tr>\n",
       "    <tr>\n",
       "      <th>7</th>\n",
       "      <td>2021-11-03</td>\n",
       "      <td>Target group 2</td>\n",
       "      <td>288.58</td>\n",
       "      <td>152.0</td>\n",
       "      <td>276.5</td>\n",
       "      <td>1.254738</td>\n",
       "    </tr>\n",
       "    <tr>\n",
       "      <th>8</th>\n",
       "      <td>2021-11-04</td>\n",
       "      <td>Target group 2</td>\n",
       "      <td>290.63</td>\n",
       "      <td>124.0</td>\n",
       "      <td>276.5</td>\n",
       "      <td>1.196593</td>\n",
       "    </tr>\n",
       "    <tr>\n",
       "      <th>9</th>\n",
       "      <td>2021-11-05</td>\n",
       "      <td>Target group 2</td>\n",
       "      <td>302.01</td>\n",
       "      <td>104.0</td>\n",
       "      <td>276.5</td>\n",
       "      <td>1.131482</td>\n",
       "    </tr>\n",
       "    <tr>\n",
       "      <th>10</th>\n",
       "      <td>2021-11-06</td>\n",
       "      <td>Target group 2</td>\n",
       "      <td>308.20</td>\n",
       "      <td>111.0</td>\n",
       "      <td>276.5</td>\n",
       "      <td>1.124520</td>\n",
       "    </tr>\n",
       "    <tr>\n",
       "      <th>11</th>\n",
       "      <td>2021-11-07</td>\n",
       "      <td>Target group 2</td>\n",
       "      <td>303.29</td>\n",
       "      <td>89.0</td>\n",
       "      <td>276.5</td>\n",
       "      <td>1.108482</td>\n",
       "    </tr>\n",
       "    <tr>\n",
       "      <th>12</th>\n",
       "      <td>2021-11-08</td>\n",
       "      <td>Target group 2</td>\n",
       "      <td>301.84</td>\n",
       "      <td>99.0</td>\n",
       "      <td>276.5</td>\n",
       "      <td>1.088049</td>\n",
       "    </tr>\n",
       "    <tr>\n",
       "      <th>13</th>\n",
       "      <td>2021-11-09</td>\n",
       "      <td>Target group 2</td>\n",
       "      <td>266.70</td>\n",
       "      <td>68.0</td>\n",
       "      <td>276.5</td>\n",
       "      <td>1.078055</td>\n",
       "    </tr>\n",
       "    <tr>\n",
       "      <th>14</th>\n",
       "      <td>2021-11-03</td>\n",
       "      <td>Target group 3</td>\n",
       "      <td>72.35</td>\n",
       "      <td>34.0</td>\n",
       "      <td>67.0</td>\n",
       "      <td>1.165858</td>\n",
       "    </tr>\n",
       "    <tr>\n",
       "      <th>15</th>\n",
       "      <td>2021-11-04</td>\n",
       "      <td>Target group 3</td>\n",
       "      <td>71.98</td>\n",
       "      <td>16.0</td>\n",
       "      <td>67.0</td>\n",
       "      <td>1.120640</td>\n",
       "    </tr>\n",
       "    <tr>\n",
       "      <th>16</th>\n",
       "      <td>2021-11-05</td>\n",
       "      <td>Target group 3</td>\n",
       "      <td>75.05</td>\n",
       "      <td>21.0</td>\n",
       "      <td>67.0</td>\n",
       "      <td>1.135886</td>\n",
       "    </tr>\n",
       "    <tr>\n",
       "      <th>17</th>\n",
       "      <td>2021-11-06</td>\n",
       "      <td>Target group 3</td>\n",
       "      <td>76.34</td>\n",
       "      <td>28.0</td>\n",
       "      <td>67.0</td>\n",
       "      <td>1.077470</td>\n",
       "    </tr>\n",
       "    <tr>\n",
       "      <th>18</th>\n",
       "      <td>2021-11-07</td>\n",
       "      <td>Target group 3</td>\n",
       "      <td>75.47</td>\n",
       "      <td>22.0</td>\n",
       "      <td>67.0</td>\n",
       "      <td>1.086266</td>\n",
       "    </tr>\n",
       "    <tr>\n",
       "      <th>19</th>\n",
       "      <td>2021-11-08</td>\n",
       "      <td>Target group 3</td>\n",
       "      <td>68.72</td>\n",
       "      <td>15.0</td>\n",
       "      <td>67.0</td>\n",
       "      <td>1.065364</td>\n",
       "    </tr>\n",
       "    <tr>\n",
       "      <th>20</th>\n",
       "      <td>2021-11-09</td>\n",
       "      <td>Target group 3</td>\n",
       "      <td>64.19</td>\n",
       "      <td>18.0</td>\n",
       "      <td>67.0</td>\n",
       "      <td>1.058300</td>\n",
       "    </tr>\n",
       "  </tbody>\n",
       "</table>\n",
       "</div>"
      ],
      "text/plain": [
       "         Date     Ad set name  Amount spent  Actions  Ad set budget  Frequency\n",
       "0  2021-11-03  Target group 1        120.80     61.0          156.5   1.349448\n",
       "1  2021-11-04  Target group 1        119.23     37.0          156.5   1.250163\n",
       "2  2021-11-05  Target group 1        123.66     44.0          156.5   1.229454\n",
       "3  2021-11-06  Target group 1        130.73     46.0          156.5   1.215047\n",
       "4  2021-11-07  Target group 1        124.41     50.0          156.5   1.188039\n",
       "5  2021-11-08  Target group 1        108.72     29.0          156.5   1.112123\n",
       "6  2021-11-09  Target group 1        148.93     45.0          156.5   1.133259\n",
       "7  2021-11-03  Target group 2        288.58    152.0          276.5   1.254738\n",
       "8  2021-11-04  Target group 2        290.63    124.0          276.5   1.196593\n",
       "9  2021-11-05  Target group 2        302.01    104.0          276.5   1.131482\n",
       "10 2021-11-06  Target group 2        308.20    111.0          276.5   1.124520\n",
       "11 2021-11-07  Target group 2        303.29     89.0          276.5   1.108482\n",
       "12 2021-11-08  Target group 2        301.84     99.0          276.5   1.088049\n",
       "13 2021-11-09  Target group 2        266.70     68.0          276.5   1.078055\n",
       "14 2021-11-03  Target group 3         72.35     34.0           67.0   1.165858\n",
       "15 2021-11-04  Target group 3         71.98     16.0           67.0   1.120640\n",
       "16 2021-11-05  Target group 3         75.05     21.0           67.0   1.135886\n",
       "17 2021-11-06  Target group 3         76.34     28.0           67.0   1.077470\n",
       "18 2021-11-07  Target group 3         75.47     22.0           67.0   1.086266\n",
       "19 2021-11-08  Target group 3         68.72     15.0           67.0   1.065364\n",
       "20 2021-11-09  Target group 3         64.19     18.0           67.0   1.058300"
      ]
     },
     "execution_count": 22,
     "metadata": {},
     "output_type": "execute_result"
    }
   ],
   "source": [
    "# Removing NaN\n",
    "df.dropna(axis=0,inplace=True)\n",
    "df.reset_index()"
   ]
  },
  {
   "cell_type": "code",
   "execution_count": 23,
   "id": "fcd20be8",
   "metadata": {},
   "outputs": [],
   "source": [
    "# Separating target group 1,2,3\n",
    "df_target_group1 = df[df['Ad set name']=='Target group 1']\n",
    "df_target_group2 = df[df['Ad set name']=='Target group 2']\n",
    "df_target_group3 = df[df['Ad set name']=='Target group 3']"
   ]
  },
  {
   "cell_type": "markdown",
   "id": "74a7b7f0",
   "metadata": {},
   "source": [
    "# Data Analysis on Target1 Group"
   ]
  },
  {
   "cell_type": "code",
   "execution_count": 24,
   "id": "f773165e",
   "metadata": {},
   "outputs": [
    {
     "data": {
      "text/html": [
       "<div>\n",
       "<style scoped>\n",
       "    .dataframe tbody tr th:only-of-type {\n",
       "        vertical-align: middle;\n",
       "    }\n",
       "\n",
       "    .dataframe tbody tr th {\n",
       "        vertical-align: top;\n",
       "    }\n",
       "\n",
       "    .dataframe thead th {\n",
       "        text-align: right;\n",
       "    }\n",
       "</style>\n",
       "<table border=\"1\" class=\"dataframe\">\n",
       "  <thead>\n",
       "    <tr style=\"text-align: right;\">\n",
       "      <th></th>\n",
       "      <th>Ad set name</th>\n",
       "      <th>Amount spent</th>\n",
       "      <th>Actions</th>\n",
       "      <th>Ad set budget</th>\n",
       "      <th>Frequency</th>\n",
       "    </tr>\n",
       "    <tr>\n",
       "      <th>Date</th>\n",
       "      <th></th>\n",
       "      <th></th>\n",
       "      <th></th>\n",
       "      <th></th>\n",
       "      <th></th>\n",
       "    </tr>\n",
       "  </thead>\n",
       "  <tbody>\n",
       "    <tr>\n",
       "      <th>2021-11-03</th>\n",
       "      <td>Target group 1</td>\n",
       "      <td>120.80</td>\n",
       "      <td>61.0</td>\n",
       "      <td>156.5</td>\n",
       "      <td>1.349448</td>\n",
       "    </tr>\n",
       "    <tr>\n",
       "      <th>2021-11-04</th>\n",
       "      <td>Target group 1</td>\n",
       "      <td>119.23</td>\n",
       "      <td>37.0</td>\n",
       "      <td>156.5</td>\n",
       "      <td>1.250163</td>\n",
       "    </tr>\n",
       "    <tr>\n",
       "      <th>2021-11-05</th>\n",
       "      <td>Target group 1</td>\n",
       "      <td>123.66</td>\n",
       "      <td>44.0</td>\n",
       "      <td>156.5</td>\n",
       "      <td>1.229454</td>\n",
       "    </tr>\n",
       "    <tr>\n",
       "      <th>2021-11-06</th>\n",
       "      <td>Target group 1</td>\n",
       "      <td>130.73</td>\n",
       "      <td>46.0</td>\n",
       "      <td>156.5</td>\n",
       "      <td>1.215047</td>\n",
       "    </tr>\n",
       "    <tr>\n",
       "      <th>2021-11-07</th>\n",
       "      <td>Target group 1</td>\n",
       "      <td>124.41</td>\n",
       "      <td>50.0</td>\n",
       "      <td>156.5</td>\n",
       "      <td>1.188039</td>\n",
       "    </tr>\n",
       "    <tr>\n",
       "      <th>2021-11-08</th>\n",
       "      <td>Target group 1</td>\n",
       "      <td>108.72</td>\n",
       "      <td>29.0</td>\n",
       "      <td>156.5</td>\n",
       "      <td>1.112123</td>\n",
       "    </tr>\n",
       "    <tr>\n",
       "      <th>2021-11-09</th>\n",
       "      <td>Target group 1</td>\n",
       "      <td>148.93</td>\n",
       "      <td>45.0</td>\n",
       "      <td>156.5</td>\n",
       "      <td>1.133259</td>\n",
       "    </tr>\n",
       "  </tbody>\n",
       "</table>\n",
       "</div>"
      ],
      "text/plain": [
       "               Ad set name  Amount spent  Actions  Ad set budget  Frequency\n",
       "Date                                                                       \n",
       "2021-11-03  Target group 1        120.80     61.0          156.5   1.349448\n",
       "2021-11-04  Target group 1        119.23     37.0          156.5   1.250163\n",
       "2021-11-05  Target group 1        123.66     44.0          156.5   1.229454\n",
       "2021-11-06  Target group 1        130.73     46.0          156.5   1.215047\n",
       "2021-11-07  Target group 1        124.41     50.0          156.5   1.188039\n",
       "2021-11-08  Target group 1        108.72     29.0          156.5   1.112123\n",
       "2021-11-09  Target group 1        148.93     45.0          156.5   1.133259"
      ]
     },
     "execution_count": 24,
     "metadata": {},
     "output_type": "execute_result"
    }
   ],
   "source": [
    "df_target_group1"
   ]
  },
  {
   "cell_type": "code",
   "execution_count": 25,
   "id": "6083e1b7",
   "metadata": {},
   "outputs": [
    {
     "name": "stderr",
     "output_type": "stream",
     "text": [
      "C:\\Users\\Admin\\anaconda3\\lib\\site-packages\\pandas\\core\\frame.py:4308: SettingWithCopyWarning: \n",
      "A value is trying to be set on a copy of a slice from a DataFrame\n",
      "\n",
      "See the caveats in the documentation: https://pandas.pydata.org/pandas-docs/stable/user_guide/indexing.html#returning-a-view-versus-a-copy\n",
      "  return super().drop(\n"
     ]
    }
   ],
   "source": [
    "# Removing irrelevant features\n",
    "df_target_group1.drop(['Ad set name'],axis = 1,inplace = True)"
   ]
  },
  {
   "cell_type": "code",
   "execution_count": 26,
   "id": "a947bbf2",
   "metadata": {},
   "outputs": [
    {
     "data": {
      "text/html": [
       "<div>\n",
       "<style scoped>\n",
       "    .dataframe tbody tr th:only-of-type {\n",
       "        vertical-align: middle;\n",
       "    }\n",
       "\n",
       "    .dataframe tbody tr th {\n",
       "        vertical-align: top;\n",
       "    }\n",
       "\n",
       "    .dataframe thead th {\n",
       "        text-align: right;\n",
       "    }\n",
       "</style>\n",
       "<table border=\"1\" class=\"dataframe\">\n",
       "  <thead>\n",
       "    <tr style=\"text-align: right;\">\n",
       "      <th></th>\n",
       "      <th>Amount spent</th>\n",
       "      <th>Actions</th>\n",
       "      <th>Ad set budget</th>\n",
       "      <th>Frequency</th>\n",
       "    </tr>\n",
       "    <tr>\n",
       "      <th>Date</th>\n",
       "      <th></th>\n",
       "      <th></th>\n",
       "      <th></th>\n",
       "      <th></th>\n",
       "    </tr>\n",
       "  </thead>\n",
       "  <tbody>\n",
       "    <tr>\n",
       "      <th>2021-11-03</th>\n",
       "      <td>120.80</td>\n",
       "      <td>61.0</td>\n",
       "      <td>156.5</td>\n",
       "      <td>1.349448</td>\n",
       "    </tr>\n",
       "    <tr>\n",
       "      <th>2021-11-04</th>\n",
       "      <td>119.23</td>\n",
       "      <td>37.0</td>\n",
       "      <td>156.5</td>\n",
       "      <td>1.250163</td>\n",
       "    </tr>\n",
       "    <tr>\n",
       "      <th>2021-11-05</th>\n",
       "      <td>123.66</td>\n",
       "      <td>44.0</td>\n",
       "      <td>156.5</td>\n",
       "      <td>1.229454</td>\n",
       "    </tr>\n",
       "    <tr>\n",
       "      <th>2021-11-06</th>\n",
       "      <td>130.73</td>\n",
       "      <td>46.0</td>\n",
       "      <td>156.5</td>\n",
       "      <td>1.215047</td>\n",
       "    </tr>\n",
       "    <tr>\n",
       "      <th>2021-11-07</th>\n",
       "      <td>124.41</td>\n",
       "      <td>50.0</td>\n",
       "      <td>156.5</td>\n",
       "      <td>1.188039</td>\n",
       "    </tr>\n",
       "    <tr>\n",
       "      <th>2021-11-08</th>\n",
       "      <td>108.72</td>\n",
       "      <td>29.0</td>\n",
       "      <td>156.5</td>\n",
       "      <td>1.112123</td>\n",
       "    </tr>\n",
       "    <tr>\n",
       "      <th>2021-11-09</th>\n",
       "      <td>148.93</td>\n",
       "      <td>45.0</td>\n",
       "      <td>156.5</td>\n",
       "      <td>1.133259</td>\n",
       "    </tr>\n",
       "  </tbody>\n",
       "</table>\n",
       "</div>"
      ],
      "text/plain": [
       "            Amount spent  Actions  Ad set budget  Frequency\n",
       "Date                                                       \n",
       "2021-11-03        120.80     61.0          156.5   1.349448\n",
       "2021-11-04        119.23     37.0          156.5   1.250163\n",
       "2021-11-05        123.66     44.0          156.5   1.229454\n",
       "2021-11-06        130.73     46.0          156.5   1.215047\n",
       "2021-11-07        124.41     50.0          156.5   1.188039\n",
       "2021-11-08        108.72     29.0          156.5   1.112123\n",
       "2021-11-09        148.93     45.0          156.5   1.133259"
      ]
     },
     "execution_count": 26,
     "metadata": {},
     "output_type": "execute_result"
    }
   ],
   "source": [
    "df_target_group1"
   ]
  },
  {
   "cell_type": "code",
   "execution_count": 27,
   "id": "46b3b9f5",
   "metadata": {},
   "outputs": [],
   "source": [
    "df1 = df_target_group1[['Amount spent','Ad set budget','Frequency','Actions']]"
   ]
  },
  {
   "cell_type": "code",
   "execution_count": 28,
   "id": "0353d99e",
   "metadata": {},
   "outputs": [
    {
     "data": {
      "text/html": [
       "<div>\n",
       "<style scoped>\n",
       "    .dataframe tbody tr th:only-of-type {\n",
       "        vertical-align: middle;\n",
       "    }\n",
       "\n",
       "    .dataframe tbody tr th {\n",
       "        vertical-align: top;\n",
       "    }\n",
       "\n",
       "    .dataframe thead th {\n",
       "        text-align: right;\n",
       "    }\n",
       "</style>\n",
       "<table border=\"1\" class=\"dataframe\">\n",
       "  <thead>\n",
       "    <tr style=\"text-align: right;\">\n",
       "      <th></th>\n",
       "      <th>Amount spent</th>\n",
       "      <th>Ad set budget</th>\n",
       "      <th>Frequency</th>\n",
       "      <th>Actions</th>\n",
       "    </tr>\n",
       "    <tr>\n",
       "      <th>Date</th>\n",
       "      <th></th>\n",
       "      <th></th>\n",
       "      <th></th>\n",
       "      <th></th>\n",
       "    </tr>\n",
       "  </thead>\n",
       "  <tbody>\n",
       "    <tr>\n",
       "      <th>2021-11-03</th>\n",
       "      <td>120.80</td>\n",
       "      <td>156.5</td>\n",
       "      <td>1.349448</td>\n",
       "      <td>61.0</td>\n",
       "    </tr>\n",
       "    <tr>\n",
       "      <th>2021-11-04</th>\n",
       "      <td>119.23</td>\n",
       "      <td>156.5</td>\n",
       "      <td>1.250163</td>\n",
       "      <td>37.0</td>\n",
       "    </tr>\n",
       "    <tr>\n",
       "      <th>2021-11-05</th>\n",
       "      <td>123.66</td>\n",
       "      <td>156.5</td>\n",
       "      <td>1.229454</td>\n",
       "      <td>44.0</td>\n",
       "    </tr>\n",
       "    <tr>\n",
       "      <th>2021-11-06</th>\n",
       "      <td>130.73</td>\n",
       "      <td>156.5</td>\n",
       "      <td>1.215047</td>\n",
       "      <td>46.0</td>\n",
       "    </tr>\n",
       "    <tr>\n",
       "      <th>2021-11-07</th>\n",
       "      <td>124.41</td>\n",
       "      <td>156.5</td>\n",
       "      <td>1.188039</td>\n",
       "      <td>50.0</td>\n",
       "    </tr>\n",
       "    <tr>\n",
       "      <th>2021-11-08</th>\n",
       "      <td>108.72</td>\n",
       "      <td>156.5</td>\n",
       "      <td>1.112123</td>\n",
       "      <td>29.0</td>\n",
       "    </tr>\n",
       "    <tr>\n",
       "      <th>2021-11-09</th>\n",
       "      <td>148.93</td>\n",
       "      <td>156.5</td>\n",
       "      <td>1.133259</td>\n",
       "      <td>45.0</td>\n",
       "    </tr>\n",
       "  </tbody>\n",
       "</table>\n",
       "</div>"
      ],
      "text/plain": [
       "            Amount spent  Ad set budget  Frequency  Actions\n",
       "Date                                                       \n",
       "2021-11-03        120.80          156.5   1.349448     61.0\n",
       "2021-11-04        119.23          156.5   1.250163     37.0\n",
       "2021-11-05        123.66          156.5   1.229454     44.0\n",
       "2021-11-06        130.73          156.5   1.215047     46.0\n",
       "2021-11-07        124.41          156.5   1.188039     50.0\n",
       "2021-11-08        108.72          156.5   1.112123     29.0\n",
       "2021-11-09        148.93          156.5   1.133259     45.0"
      ]
     },
     "execution_count": 28,
     "metadata": {},
     "output_type": "execute_result"
    }
   ],
   "source": [
    "df1"
   ]
  },
  {
   "cell_type": "code",
   "execution_count": 29,
   "id": "5bd47582",
   "metadata": {},
   "outputs": [
    {
     "data": {
      "text/html": [
       "<div>\n",
       "<style scoped>\n",
       "    .dataframe tbody tr th:only-of-type {\n",
       "        vertical-align: middle;\n",
       "    }\n",
       "\n",
       "    .dataframe tbody tr th {\n",
       "        vertical-align: top;\n",
       "    }\n",
       "\n",
       "    .dataframe thead th {\n",
       "        text-align: right;\n",
       "    }\n",
       "</style>\n",
       "<table border=\"1\" class=\"dataframe\">\n",
       "  <thead>\n",
       "    <tr style=\"text-align: right;\">\n",
       "      <th></th>\n",
       "      <th>Amount spent</th>\n",
       "      <th>Ad set budget</th>\n",
       "      <th>Frequency</th>\n",
       "      <th>Actions</th>\n",
       "    </tr>\n",
       "  </thead>\n",
       "  <tbody>\n",
       "    <tr>\n",
       "      <th>count</th>\n",
       "      <td>7.000000</td>\n",
       "      <td>7.0</td>\n",
       "      <td>7.000000</td>\n",
       "      <td>7.000000</td>\n",
       "    </tr>\n",
       "    <tr>\n",
       "      <th>mean</th>\n",
       "      <td>125.211429</td>\n",
       "      <td>156.5</td>\n",
       "      <td>1.211076</td>\n",
       "      <td>44.571429</td>\n",
       "    </tr>\n",
       "    <tr>\n",
       "      <th>std</th>\n",
       "      <td>12.404837</td>\n",
       "      <td>0.0</td>\n",
       "      <td>0.078958</td>\n",
       "      <td>10.014276</td>\n",
       "    </tr>\n",
       "    <tr>\n",
       "      <th>min</th>\n",
       "      <td>108.720000</td>\n",
       "      <td>156.5</td>\n",
       "      <td>1.112123</td>\n",
       "      <td>29.000000</td>\n",
       "    </tr>\n",
       "    <tr>\n",
       "      <th>25%</th>\n",
       "      <td>120.015000</td>\n",
       "      <td>156.5</td>\n",
       "      <td>1.160649</td>\n",
       "      <td>40.500000</td>\n",
       "    </tr>\n",
       "    <tr>\n",
       "      <th>50%</th>\n",
       "      <td>123.660000</td>\n",
       "      <td>156.5</td>\n",
       "      <td>1.215047</td>\n",
       "      <td>45.000000</td>\n",
       "    </tr>\n",
       "    <tr>\n",
       "      <th>75%</th>\n",
       "      <td>127.570000</td>\n",
       "      <td>156.5</td>\n",
       "      <td>1.239809</td>\n",
       "      <td>48.000000</td>\n",
       "    </tr>\n",
       "    <tr>\n",
       "      <th>max</th>\n",
       "      <td>148.930000</td>\n",
       "      <td>156.5</td>\n",
       "      <td>1.349448</td>\n",
       "      <td>61.000000</td>\n",
       "    </tr>\n",
       "  </tbody>\n",
       "</table>\n",
       "</div>"
      ],
      "text/plain": [
       "       Amount spent  Ad set budget  Frequency    Actions\n",
       "count      7.000000            7.0   7.000000   7.000000\n",
       "mean     125.211429          156.5   1.211076  44.571429\n",
       "std       12.404837            0.0   0.078958  10.014276\n",
       "min      108.720000          156.5   1.112123  29.000000\n",
       "25%      120.015000          156.5   1.160649  40.500000\n",
       "50%      123.660000          156.5   1.215047  45.000000\n",
       "75%      127.570000          156.5   1.239809  48.000000\n",
       "max      148.930000          156.5   1.349448  61.000000"
      ]
     },
     "execution_count": 29,
     "metadata": {},
     "output_type": "execute_result"
    }
   ],
   "source": [
    "df1.describe(include = 'all')"
   ]
  },
  {
   "cell_type": "markdown",
   "id": "e40dc87c",
   "metadata": {},
   "source": [
    "There is a chance if we increase the amount spent value the frequency will increase which will leads to actions to be more"
   ]
  },
  {
   "cell_type": "code",
   "execution_count": 30,
   "id": "0a6afb1d",
   "metadata": {},
   "outputs": [
    {
     "data": {
      "text/plain": [
       "Amount spent     float64\n",
       "Ad set budget    float64\n",
       "Frequency        float64\n",
       "Actions          float64\n",
       "dtype: object"
      ]
     },
     "execution_count": 30,
     "metadata": {},
     "output_type": "execute_result"
    }
   ],
   "source": [
    "df1.dtypes"
   ]
  },
  {
   "cell_type": "code",
   "execution_count": 31,
   "id": "e8e4073f",
   "metadata": {},
   "outputs": [
    {
     "data": {
      "text/plain": [
       "<Figure size 2160x1080 with 0 Axes>"
      ]
     },
     "metadata": {},
     "output_type": "display_data"
    },
    {
     "data": {
      "image/png": "[encoded data removed]",
      "text/plain": [
       "<Figure size 540x180 with 3 Axes>"
      ]
     },
     "metadata": {
      "needs_background": "light"
     },
     "output_type": "display_data"
    }
   ],
   "source": [
    "plt.figure(figsize=(30,15))\n",
    "sns.pairplot(df1,x_vars=df1.columns[0:-1],y_vars=\"Actions\",\n",
    "                kind='reg')\n",
    "plt.show()"
   ]
  },
  {
   "cell_type": "code",
   "execution_count": 32,
   "id": "40f1786f",
   "metadata": {},
   "outputs": [],
   "source": [
    "# creating X and Y\n",
    "X = df1.iloc[:,:-1] # independent variales\n",
    "Y = df1.iloc[:,-1] # dependent variable"
   ]
  },
  {
   "cell_type": "code",
   "execution_count": 33,
   "id": "c0607c5a",
   "metadata": {},
   "outputs": [
    {
     "data": {
      "text/plain": [
       "((7, 3), (7,))"
      ]
     },
     "execution_count": 33,
     "metadata": {},
     "output_type": "execute_result"
    }
   ],
   "source": [
    "X.shape,Y.shape"
   ]
  },
  {
   "cell_type": "code",
   "execution_count": 34,
   "id": "98e5cda6",
   "metadata": {},
   "outputs": [
    {
     "name": "stderr",
     "output_type": "stream",
     "text": [
      "C:\\Users\\Admin\\anaconda3\\lib\\site-packages\\seaborn\\distributions.py:2557: FutureWarning: `distplot` is a deprecated function and will be removed in a future version. Please adapt your code to use either `displot` (a figure-level function with similar flexibility) or `histplot` (an axes-level function for histograms).\n",
      "  warnings.warn(msg, FutureWarning)\n"
     ]
    },
    {
     "data": {
      "text/plain": [
       "<AxesSubplot:xlabel='Actions', ylabel='Density'>"
      ]
     },
     "execution_count": 34,
     "metadata": {},
     "output_type": "execute_result"
    },
    {
     "data": {
      "image/png": "[encoded data removed]",
      "text/plain": [
       "<Figure size 432x288 with 1 Axes>"
      ]
     },
     "metadata": {
      "needs_background": "light"
     },
     "output_type": "display_data"
    }
   ],
   "source": [
    "#Assumption of Normality: The dependent variable should follow an approximate normal distribtion\n",
    "sns.distplot(Y,hist=True)"
   ]
  },
  {
   "cell_type": "code",
   "execution_count": 35,
   "id": "a7c4a75f",
   "metadata": {},
   "outputs": [
    {
     "name": "stdout",
     "output_type": "stream",
     "text": [
      "               Amount spent  Ad set budget  Frequency\n",
      "Amount spent        1.00000            NaN   -0.17802\n",
      "Ad set budget           NaN            NaN        NaN\n",
      "Frequency          -0.17802            NaN    1.00000\n"
     ]
    },
    {
     "data": {
      "text/plain": [
       "<AxesSubplot:>"
      ]
     },
     "execution_count": 35,
     "metadata": {},
     "output_type": "execute_result"
    },
    {
     "data": {
      "image/png": "[encoded data removed]",
      "text/plain": [
       "<Figure size 432x288 with 2 Axes>"
      ]
     },
     "metadata": {
      "needs_background": "light"
     },
     "output_type": "display_data"
    }
   ],
   "source": [
    "#Assumption of no multicollinearity: There should be no multicolliearity between the independent variables\n",
    "# eliminate the var which is correlated with many var\n",
    "corr_df=X.corr(method='pearson')\n",
    "print(corr_df)\n",
    "\n",
    "sns.heatmap(corr_df,vmax=1.0,vmin=-1.0,annot=True)"
   ]
  },
  {
   "cell_type": "code",
   "execution_count": 36,
   "id": "14f3aa52",
   "metadata": {},
   "outputs": [
    {
     "data": {
      "text/html": [
       "<div>\n",
       "<style scoped>\n",
       "    .dataframe tbody tr th:only-of-type {\n",
       "        vertical-align: middle;\n",
       "    }\n",
       "\n",
       "    .dataframe tbody tr th {\n",
       "        vertical-align: top;\n",
       "    }\n",
       "\n",
       "    .dataframe thead th {\n",
       "        text-align: right;\n",
       "    }\n",
       "</style>\n",
       "<table border=\"1\" class=\"dataframe\">\n",
       "  <thead>\n",
       "    <tr style=\"text-align: right;\">\n",
       "      <th></th>\n",
       "      <th>features</th>\n",
       "      <th>VIF Factor</th>\n",
       "    </tr>\n",
       "  </thead>\n",
       "  <tbody>\n",
       "    <tr>\n",
       "      <th>0</th>\n",
       "      <td>Amount spent</td>\n",
       "      <td>1.03</td>\n",
       "    </tr>\n",
       "    <tr>\n",
       "      <th>1</th>\n",
       "      <td>Ad set budget</td>\n",
       "      <td>473.63</td>\n",
       "    </tr>\n",
       "    <tr>\n",
       "      <th>2</th>\n",
       "      <td>Frequency</td>\n",
       "      <td>1.03</td>\n",
       "    </tr>\n",
       "  </tbody>\n",
       "</table>\n",
       "</div>"
      ],
      "text/plain": [
       "        features  VIF Factor\n",
       "0   Amount spent        1.03\n",
       "1  Ad set budget      473.63\n",
       "2      Frequency        1.03"
      ]
     },
     "execution_count": 36,
     "metadata": {},
     "output_type": "execute_result"
    }
   ],
   "source": [
    "from statsmodels.stats.outliers_influence import variance_inflation_factor as vif\n",
    "\n",
    "vif_df = pd.DataFrame()\n",
    "vif_df[\"features\"] = X.columns\n",
    "vif_df[\"VIF Factor\"] = [vif(X.values, i) for i in range(X.shape[1])]\n",
    "vif_df.round(2)"
   ]
  },
  {
   "cell_type": "code",
   "execution_count": 37,
   "id": "71dca778",
   "metadata": {},
   "outputs": [
    {
     "name": "stderr",
     "output_type": "stream",
     "text": [
      "C:\\Users\\Admin\\anaconda3\\lib\\site-packages\\pandas\\core\\frame.py:4308: SettingWithCopyWarning: \n",
      "A value is trying to be set on a copy of a slice from a DataFrame\n",
      "\n",
      "See the caveats in the documentation: https://pandas.pydata.org/pandas-docs/stable/user_guide/indexing.html#returning-a-view-versus-a-copy\n",
      "  return super().drop(\n"
     ]
    }
   ],
   "source": [
    "# dropping Ad set budget from the indep var\n",
    "X.drop(['Ad set budget'],axis = 1,inplace = True)"
   ]
  },
  {
   "cell_type": "code",
   "execution_count": 38,
   "id": "cc73811d",
   "metadata": {},
   "outputs": [
    {
     "data": {
      "text/plain": [
       "(7, 2)"
      ]
     },
     "execution_count": 38,
     "metadata": {},
     "output_type": "execute_result"
    }
   ],
   "source": [
    "X.shape"
   ]
  },
  {
   "cell_type": "code",
   "execution_count": 39,
   "id": "e38cc910",
   "metadata": {},
   "outputs": [],
   "source": [
    "from sklearn.model_selection import train_test_split\n",
    "X_train,X_test,Y_train,Y_test=train_test_split(X,Y,test_size=0.2,random_state=10) ## default test_size=0.25"
   ]
  },
  {
   "cell_type": "code",
   "execution_count": 40,
   "id": "85225c06",
   "metadata": {},
   "outputs": [
    {
     "name": "stdout",
     "output_type": "stream",
     "text": [
      "[46.66438698 50.38787818]\n"
     ]
    }
   ],
   "source": [
    "# Implementing Linear Regression\n",
    "from sklearn.linear_model import LinearRegression\n",
    "lm = LinearRegression()\n",
    "lm.fit(X_train,Y_train)\n",
    "## predict using the model\n",
    "Y_pred=lm.predict(X_test)\n",
    "print(Y_pred)"
   ]
  },
  {
   "cell_type": "code",
   "execution_count": 41,
   "id": "72a09c1b",
   "metadata": {},
   "outputs": [
    {
     "data": {
      "text/plain": [
       "0.7269317148918994"
      ]
     },
     "execution_count": 41,
     "metadata": {},
     "output_type": "execute_result"
    }
   ],
   "source": [
    "lm.score(X_train, Y_train)"
   ]
  },
  {
   "cell_type": "code",
   "execution_count": 42,
   "id": "43999f96",
   "metadata": {},
   "outputs": [
    {
     "name": "stderr",
     "output_type": "stream",
     "text": [
      "<ipython-input-42-b89f58d2ac7b>:4: SettingWithCopyWarning: \n",
      "A value is trying to be set on a copy of a slice from a DataFrame.\n",
      "Try using .loc[row_indexer,col_indexer] = value instead\n",
      "\n",
      "See the caveats in the documentation: https://pandas.pydata.org/pandas-docs/stable/user_guide/indexing.html#returning-a-view-versus-a-copy\n",
      "  new_df1[\"Actual Actions\"]=Y_test\n",
      "<ipython-input-42-b89f58d2ac7b>:5: SettingWithCopyWarning: \n",
      "A value is trying to be set on a copy of a slice from a DataFrame.\n",
      "Try using .loc[row_indexer,col_indexer] = value instead\n",
      "\n",
      "See the caveats in the documentation: https://pandas.pydata.org/pandas-docs/stable/user_guide/indexing.html#returning-a-view-versus-a-copy\n",
      "  new_df1[\"Predicted Actions\"]=Y_pred\n"
     ]
    },
    {
     "data": {
      "text/html": [
       "<div>\n",
       "<style scoped>\n",
       "    .dataframe tbody tr th:only-of-type {\n",
       "        vertical-align: middle;\n",
       "    }\n",
       "\n",
       "    .dataframe tbody tr th {\n",
       "        vertical-align: top;\n",
       "    }\n",
       "\n",
       "    .dataframe thead th {\n",
       "        text-align: right;\n",
       "    }\n",
       "</style>\n",
       "<table border=\"1\" class=\"dataframe\">\n",
       "  <thead>\n",
       "    <tr style=\"text-align: right;\">\n",
       "      <th></th>\n",
       "      <th>Amount spent</th>\n",
       "      <th>Frequency</th>\n",
       "      <th>Actual Actions</th>\n",
       "      <th>Predicted Actions</th>\n",
       "    </tr>\n",
       "    <tr>\n",
       "      <th>Date</th>\n",
       "      <th></th>\n",
       "      <th></th>\n",
       "      <th></th>\n",
       "      <th></th>\n",
       "    </tr>\n",
       "  </thead>\n",
       "  <tbody>\n",
       "    <tr>\n",
       "      <th>2021-11-05</th>\n",
       "      <td>123.66</td>\n",
       "      <td>1.229454</td>\n",
       "      <td>44.0</td>\n",
       "      <td>46.664387</td>\n",
       "    </tr>\n",
       "    <tr>\n",
       "      <th>2021-11-09</th>\n",
       "      <td>148.93</td>\n",
       "      <td>1.133259</td>\n",
       "      <td>45.0</td>\n",
       "      <td>50.387878</td>\n",
       "    </tr>\n",
       "  </tbody>\n",
       "</table>\n",
       "</div>"
      ],
      "text/plain": [
       "            Amount spent  Frequency  Actual Actions  Predicted Actions\n",
       "Date                                                                  \n",
       "2021-11-05        123.66   1.229454            44.0          46.664387\n",
       "2021-11-09        148.93   1.133259            45.0          50.387878"
      ]
     },
     "execution_count": 42,
     "metadata": {},
     "output_type": "execute_result"
    }
   ],
   "source": [
    "new_df1=pd.DataFrame()\n",
    "new_df1=X_test\n",
    "\n",
    "new_df1[\"Actual Actions\"]=Y_test\n",
    "new_df1[\"Predicted Actions\"]=Y_pred\n",
    "new_df1"
   ]
  },
  {
   "cell_type": "markdown",
   "id": "a9f997a4",
   "metadata": {},
   "source": [
    "# To see if what should be the good amount spent inorder to get our desired Actions we will create one extra_feature of Desired Actions"
   ]
  },
  {
   "cell_type": "code",
   "execution_count": 43,
   "id": "a9f1efad",
   "metadata": {},
   "outputs": [
    {
     "name": "stderr",
     "output_type": "stream",
     "text": [
      "<ipython-input-43-3ddb771ba31e>:2: SettingWithCopyWarning: \n",
      "A value is trying to be set on a copy of a slice from a DataFrame.\n",
      "Try using .loc[row_indexer,col_indexer] = value instead\n",
      "\n",
      "See the caveats in the documentation: https://pandas.pydata.org/pandas-docs/stable/user_guide/indexing.html#returning-a-view-versus-a-copy\n",
      "  df1['Desired_Actions'] = [65.0,40.0,50.0,50.0,55.0,35.0,50.0]\n"
     ]
    }
   ],
   "source": [
    "# creating desired action feature for Target Group1\n",
    "df1['Desired_Actions'] = [65.0,40.0,50.0,50.0,55.0,35.0,50.0]"
   ]
  },
  {
   "cell_type": "code",
   "execution_count": 44,
   "id": "fff0292b",
   "metadata": {},
   "outputs": [
    {
     "data": {
      "text/html": [
       "<div>\n",
       "<style scoped>\n",
       "    .dataframe tbody tr th:only-of-type {\n",
       "        vertical-align: middle;\n",
       "    }\n",
       "\n",
       "    .dataframe tbody tr th {\n",
       "        vertical-align: top;\n",
       "    }\n",
       "\n",
       "    .dataframe thead th {\n",
       "        text-align: right;\n",
       "    }\n",
       "</style>\n",
       "<table border=\"1\" class=\"dataframe\">\n",
       "  <thead>\n",
       "    <tr style=\"text-align: right;\">\n",
       "      <th></th>\n",
       "      <th>Amount spent</th>\n",
       "      <th>Ad set budget</th>\n",
       "      <th>Frequency</th>\n",
       "      <th>Actions</th>\n",
       "      <th>Desired_Actions</th>\n",
       "    </tr>\n",
       "    <tr>\n",
       "      <th>Date</th>\n",
       "      <th></th>\n",
       "      <th></th>\n",
       "      <th></th>\n",
       "      <th></th>\n",
       "      <th></th>\n",
       "    </tr>\n",
       "  </thead>\n",
       "  <tbody>\n",
       "    <tr>\n",
       "      <th>2021-11-03</th>\n",
       "      <td>120.80</td>\n",
       "      <td>156.5</td>\n",
       "      <td>1.349448</td>\n",
       "      <td>61.0</td>\n",
       "      <td>65.0</td>\n",
       "    </tr>\n",
       "    <tr>\n",
       "      <th>2021-11-04</th>\n",
       "      <td>119.23</td>\n",
       "      <td>156.5</td>\n",
       "      <td>1.250163</td>\n",
       "      <td>37.0</td>\n",
       "      <td>40.0</td>\n",
       "    </tr>\n",
       "    <tr>\n",
       "      <th>2021-11-05</th>\n",
       "      <td>123.66</td>\n",
       "      <td>156.5</td>\n",
       "      <td>1.229454</td>\n",
       "      <td>44.0</td>\n",
       "      <td>50.0</td>\n",
       "    </tr>\n",
       "    <tr>\n",
       "      <th>2021-11-06</th>\n",
       "      <td>130.73</td>\n",
       "      <td>156.5</td>\n",
       "      <td>1.215047</td>\n",
       "      <td>46.0</td>\n",
       "      <td>50.0</td>\n",
       "    </tr>\n",
       "    <tr>\n",
       "      <th>2021-11-07</th>\n",
       "      <td>124.41</td>\n",
       "      <td>156.5</td>\n",
       "      <td>1.188039</td>\n",
       "      <td>50.0</td>\n",
       "      <td>55.0</td>\n",
       "    </tr>\n",
       "    <tr>\n",
       "      <th>2021-11-08</th>\n",
       "      <td>108.72</td>\n",
       "      <td>156.5</td>\n",
       "      <td>1.112123</td>\n",
       "      <td>29.0</td>\n",
       "      <td>35.0</td>\n",
       "    </tr>\n",
       "    <tr>\n",
       "      <th>2021-11-09</th>\n",
       "      <td>148.93</td>\n",
       "      <td>156.5</td>\n",
       "      <td>1.133259</td>\n",
       "      <td>45.0</td>\n",
       "      <td>50.0</td>\n",
       "    </tr>\n",
       "  </tbody>\n",
       "</table>\n",
       "</div>"
      ],
      "text/plain": [
       "            Amount spent  Ad set budget  Frequency  Actions  Desired_Actions\n",
       "Date                                                                        \n",
       "2021-11-03        120.80          156.5   1.349448     61.0             65.0\n",
       "2021-11-04        119.23          156.5   1.250163     37.0             40.0\n",
       "2021-11-05        123.66          156.5   1.229454     44.0             50.0\n",
       "2021-11-06        130.73          156.5   1.215047     46.0             50.0\n",
       "2021-11-07        124.41          156.5   1.188039     50.0             55.0\n",
       "2021-11-08        108.72          156.5   1.112123     29.0             35.0\n",
       "2021-11-09        148.93          156.5   1.133259     45.0             50.0"
      ]
     },
     "execution_count": 44,
     "metadata": {},
     "output_type": "execute_result"
    }
   ],
   "source": [
    "df1"
   ]
  },
  {
   "cell_type": "code",
   "execution_count": 45,
   "id": "e2c4ae86",
   "metadata": {},
   "outputs": [],
   "source": [
    "# Preprocessing the data again\n",
    "df1 = df1[['Frequency','Actions','Desired_Actions','Amount spent']]"
   ]
  },
  {
   "cell_type": "code",
   "execution_count": 46,
   "id": "1586cce5",
   "metadata": {},
   "outputs": [],
   "source": [
    "# creating X and Y\n",
    "X = df1.iloc[:,:-1] # independent variales\n",
    "Y = df1.iloc[:,-1] # dependent variable"
   ]
  },
  {
   "cell_type": "code",
   "execution_count": 47,
   "id": "b8a4861f",
   "metadata": {},
   "outputs": [
    {
     "data": {
      "text/plain": [
       "Date\n",
       "2021-11-03    120.80\n",
       "2021-11-04    119.23\n",
       "2021-11-05    123.66\n",
       "2021-11-06    130.73\n",
       "2021-11-07    124.41\n",
       "2021-11-08    108.72\n",
       "2021-11-09    148.93\n",
       "Name: Amount spent, dtype: float64"
      ]
     },
     "execution_count": 47,
     "metadata": {},
     "output_type": "execute_result"
    }
   ],
   "source": [
    "Y"
   ]
  },
  {
   "cell_type": "code",
   "execution_count": 48,
   "id": "b7cdf7f3",
   "metadata": {},
   "outputs": [],
   "source": [
    "from sklearn.model_selection import train_test_split\n",
    "X_train,X_test,Y_train,Y_test=train_test_split(X,Y,test_size=0.2,random_state=10) ## default test_size=0.25"
   ]
  },
  {
   "cell_type": "code",
   "execution_count": 49,
   "id": "ca561f74",
   "metadata": {},
   "outputs": [
    {
     "name": "stdout",
     "output_type": "stream",
     "text": [
      "[104.36866481 130.94970603]\n"
     ]
    }
   ],
   "source": [
    "# Implementing Linear Regression\n",
    "from sklearn.linear_model import LinearRegression\n",
    "lm = LinearRegression()\n",
    "lm.fit(X_train,Y_train)\n",
    "## predict using the model\n",
    "Y_pred=lm.predict(X_test)\n",
    "print(Y_pred)"
   ]
  },
  {
   "cell_type": "code",
   "execution_count": 50,
   "id": "e408a2fa",
   "metadata": {},
   "outputs": [
    {
     "data": {
      "text/plain": [
       "0.9174619066685796"
      ]
     },
     "execution_count": 50,
     "metadata": {},
     "output_type": "execute_result"
    }
   ],
   "source": [
    "lm.score(X_train, Y_train)"
   ]
  },
  {
   "cell_type": "code",
   "execution_count": 51,
   "id": "2c1ee19a",
   "metadata": {},
   "outputs": [
    {
     "name": "stderr",
     "output_type": "stream",
     "text": [
      "<ipython-input-51-ca65d0785fe7>:4: SettingWithCopyWarning: \n",
      "A value is trying to be set on a copy of a slice from a DataFrame.\n",
      "Try using .loc[row_indexer,col_indexer] = value instead\n",
      "\n",
      "See the caveats in the documentation: https://pandas.pydata.org/pandas-docs/stable/user_guide/indexing.html#returning-a-view-versus-a-copy\n",
      "  new_df1_rev[\"Actual_Amount_spent\"]=Y_test\n",
      "<ipython-input-51-ca65d0785fe7>:5: SettingWithCopyWarning: \n",
      "A value is trying to be set on a copy of a slice from a DataFrame.\n",
      "Try using .loc[row_indexer,col_indexer] = value instead\n",
      "\n",
      "See the caveats in the documentation: https://pandas.pydata.org/pandas-docs/stable/user_guide/indexing.html#returning-a-view-versus-a-copy\n",
      "  new_df1_rev[\"Predicted_Amount\"]=Y_pred\n"
     ]
    },
    {
     "data": {
      "text/html": [
       "<div>\n",
       "<style scoped>\n",
       "    .dataframe tbody tr th:only-of-type {\n",
       "        vertical-align: middle;\n",
       "    }\n",
       "\n",
       "    .dataframe tbody tr th {\n",
       "        vertical-align: top;\n",
       "    }\n",
       "\n",
       "    .dataframe thead th {\n",
       "        text-align: right;\n",
       "    }\n",
       "</style>\n",
       "<table border=\"1\" class=\"dataframe\">\n",
       "  <thead>\n",
       "    <tr style=\"text-align: right;\">\n",
       "      <th></th>\n",
       "      <th>Frequency</th>\n",
       "      <th>Actions</th>\n",
       "      <th>Desired_Actions</th>\n",
       "      <th>Actual_Amount_spent</th>\n",
       "      <th>Predicted_Amount</th>\n",
       "    </tr>\n",
       "    <tr>\n",
       "      <th>Date</th>\n",
       "      <th></th>\n",
       "      <th></th>\n",
       "      <th></th>\n",
       "      <th></th>\n",
       "      <th></th>\n",
       "    </tr>\n",
       "  </thead>\n",
       "  <tbody>\n",
       "    <tr>\n",
       "      <th>2021-11-05</th>\n",
       "      <td>1.229454</td>\n",
       "      <td>44.0</td>\n",
       "      <td>50.0</td>\n",
       "      <td>123.66</td>\n",
       "      <td>104.368665</td>\n",
       "    </tr>\n",
       "    <tr>\n",
       "      <th>2021-11-09</th>\n",
       "      <td>1.133259</td>\n",
       "      <td>45.0</td>\n",
       "      <td>50.0</td>\n",
       "      <td>148.93</td>\n",
       "      <td>130.949706</td>\n",
       "    </tr>\n",
       "  </tbody>\n",
       "</table>\n",
       "</div>"
      ],
      "text/plain": [
       "            Frequency  Actions  Desired_Actions  Actual_Amount_spent  \\\n",
       "Date                                                                   \n",
       "2021-11-05   1.229454     44.0             50.0               123.66   \n",
       "2021-11-09   1.133259     45.0             50.0               148.93   \n",
       "\n",
       "            Predicted_Amount  \n",
       "Date                          \n",
       "2021-11-05        104.368665  \n",
       "2021-11-09        130.949706  "
      ]
     },
     "execution_count": 51,
     "metadata": {},
     "output_type": "execute_result"
    }
   ],
   "source": [
    "new_df1_rev=pd.DataFrame()\n",
    "new_df1_rev=X_test\n",
    "\n",
    "new_df1_rev[\"Actual_Amount_spent\"]=Y_test\n",
    "new_df1_rev[\"Predicted_Amount\"]=Y_pred\n",
    "new_df1_rev"
   ]
  },
  {
   "cell_type": "markdown",
   "id": "386c04cf",
   "metadata": {},
   "source": [
    "# Here We have predicted the amount should be spent for the increased Actions for target group1"
   ]
  },
  {
   "cell_type": "markdown",
   "id": "40110e3c",
   "metadata": {},
   "source": [
    "Similarly we can try out for other two Target Groups as well"
   ]
  },
  {
   "cell_type": "markdown",
   "id": "20e1664a",
   "metadata": {},
   "source": [
    "# Data analysis on target_group2"
   ]
  },
  {
   "cell_type": "code",
   "execution_count": 52,
   "id": "46fc31f4",
   "metadata": {},
   "outputs": [
    {
     "data": {
      "text/html": [
       "<div>\n",
       "<style scoped>\n",
       "    .dataframe tbody tr th:only-of-type {\n",
       "        vertical-align: middle;\n",
       "    }\n",
       "\n",
       "    .dataframe tbody tr th {\n",
       "        vertical-align: top;\n",
       "    }\n",
       "\n",
       "    .dataframe thead th {\n",
       "        text-align: right;\n",
       "    }\n",
       "</style>\n",
       "<table border=\"1\" class=\"dataframe\">\n",
       "  <thead>\n",
       "    <tr style=\"text-align: right;\">\n",
       "      <th></th>\n",
       "      <th>Ad set name</th>\n",
       "      <th>Amount spent</th>\n",
       "      <th>Actions</th>\n",
       "      <th>Ad set budget</th>\n",
       "      <th>Frequency</th>\n",
       "    </tr>\n",
       "    <tr>\n",
       "      <th>Date</th>\n",
       "      <th></th>\n",
       "      <th></th>\n",
       "      <th></th>\n",
       "      <th></th>\n",
       "      <th></th>\n",
       "    </tr>\n",
       "  </thead>\n",
       "  <tbody>\n",
       "    <tr>\n",
       "      <th>2021-11-03</th>\n",
       "      <td>Target group 2</td>\n",
       "      <td>288.58</td>\n",
       "      <td>152.0</td>\n",
       "      <td>276.5</td>\n",
       "      <td>1.254738</td>\n",
       "    </tr>\n",
       "    <tr>\n",
       "      <th>2021-11-04</th>\n",
       "      <td>Target group 2</td>\n",
       "      <td>290.63</td>\n",
       "      <td>124.0</td>\n",
       "      <td>276.5</td>\n",
       "      <td>1.196593</td>\n",
       "    </tr>\n",
       "    <tr>\n",
       "      <th>2021-11-05</th>\n",
       "      <td>Target group 2</td>\n",
       "      <td>302.01</td>\n",
       "      <td>104.0</td>\n",
       "      <td>276.5</td>\n",
       "      <td>1.131482</td>\n",
       "    </tr>\n",
       "    <tr>\n",
       "      <th>2021-11-06</th>\n",
       "      <td>Target group 2</td>\n",
       "      <td>308.20</td>\n",
       "      <td>111.0</td>\n",
       "      <td>276.5</td>\n",
       "      <td>1.124520</td>\n",
       "    </tr>\n",
       "    <tr>\n",
       "      <th>2021-11-07</th>\n",
       "      <td>Target group 2</td>\n",
       "      <td>303.29</td>\n",
       "      <td>89.0</td>\n",
       "      <td>276.5</td>\n",
       "      <td>1.108482</td>\n",
       "    </tr>\n",
       "    <tr>\n",
       "      <th>2021-11-08</th>\n",
       "      <td>Target group 2</td>\n",
       "      <td>301.84</td>\n",
       "      <td>99.0</td>\n",
       "      <td>276.5</td>\n",
       "      <td>1.088049</td>\n",
       "    </tr>\n",
       "    <tr>\n",
       "      <th>2021-11-09</th>\n",
       "      <td>Target group 2</td>\n",
       "      <td>266.70</td>\n",
       "      <td>68.0</td>\n",
       "      <td>276.5</td>\n",
       "      <td>1.078055</td>\n",
       "    </tr>\n",
       "  </tbody>\n",
       "</table>\n",
       "</div>"
      ],
      "text/plain": [
       "               Ad set name  Amount spent  Actions  Ad set budget  Frequency\n",
       "Date                                                                       \n",
       "2021-11-03  Target group 2        288.58    152.0          276.5   1.254738\n",
       "2021-11-04  Target group 2        290.63    124.0          276.5   1.196593\n",
       "2021-11-05  Target group 2        302.01    104.0          276.5   1.131482\n",
       "2021-11-06  Target group 2        308.20    111.0          276.5   1.124520\n",
       "2021-11-07  Target group 2        303.29     89.0          276.5   1.108482\n",
       "2021-11-08  Target group 2        301.84     99.0          276.5   1.088049\n",
       "2021-11-09  Target group 2        266.70     68.0          276.5   1.078055"
      ]
     },
     "execution_count": 52,
     "metadata": {},
     "output_type": "execute_result"
    }
   ],
   "source": [
    "df_target_group2"
   ]
  },
  {
   "cell_type": "code",
   "execution_count": 53,
   "id": "4bddda3e",
   "metadata": {},
   "outputs": [
    {
     "name": "stderr",
     "output_type": "stream",
     "text": [
      "C:\\Users\\Admin\\anaconda3\\lib\\site-packages\\pandas\\core\\frame.py:4308: SettingWithCopyWarning: \n",
      "A value is trying to be set on a copy of a slice from a DataFrame\n",
      "\n",
      "See the caveats in the documentation: https://pandas.pydata.org/pandas-docs/stable/user_guide/indexing.html#returning-a-view-versus-a-copy\n",
      "  return super().drop(\n"
     ]
    }
   ],
   "source": [
    "# REpeating the same steps as target group1\n",
    "# Removing irrelevant features\n",
    "df_target_group2.drop(['Ad set name','Ad set budget'],axis = 1,inplace = True)\n",
    "\n",
    "df2 = df_target_group2[['Amount spent','Frequency','Actions']]"
   ]
  },
  {
   "cell_type": "code",
   "execution_count": 54,
   "id": "0179336a",
   "metadata": {},
   "outputs": [
    {
     "data": {
      "text/html": [
       "<div>\n",
       "<style scoped>\n",
       "    .dataframe tbody tr th:only-of-type {\n",
       "        vertical-align: middle;\n",
       "    }\n",
       "\n",
       "    .dataframe tbody tr th {\n",
       "        vertical-align: top;\n",
       "    }\n",
       "\n",
       "    .dataframe thead th {\n",
       "        text-align: right;\n",
       "    }\n",
       "</style>\n",
       "<table border=\"1\" class=\"dataframe\">\n",
       "  <thead>\n",
       "    <tr style=\"text-align: right;\">\n",
       "      <th></th>\n",
       "      <th>Amount spent</th>\n",
       "      <th>Frequency</th>\n",
       "      <th>Actions</th>\n",
       "    </tr>\n",
       "  </thead>\n",
       "  <tbody>\n",
       "    <tr>\n",
       "      <th>count</th>\n",
       "      <td>7.000000</td>\n",
       "      <td>7.000000</td>\n",
       "      <td>7.000000</td>\n",
       "    </tr>\n",
       "    <tr>\n",
       "      <th>mean</th>\n",
       "      <td>294.464286</td>\n",
       "      <td>1.140274</td>\n",
       "      <td>106.714286</td>\n",
       "    </tr>\n",
       "    <tr>\n",
       "      <th>std</th>\n",
       "      <td>14.130842</td>\n",
       "      <td>0.063520</td>\n",
       "      <td>26.606480</td>\n",
       "    </tr>\n",
       "    <tr>\n",
       "      <th>min</th>\n",
       "      <td>266.700000</td>\n",
       "      <td>1.078055</td>\n",
       "      <td>68.000000</td>\n",
       "    </tr>\n",
       "    <tr>\n",
       "      <th>25%</th>\n",
       "      <td>289.605000</td>\n",
       "      <td>1.098266</td>\n",
       "      <td>94.000000</td>\n",
       "    </tr>\n",
       "    <tr>\n",
       "      <th>50%</th>\n",
       "      <td>301.840000</td>\n",
       "      <td>1.124520</td>\n",
       "      <td>104.000000</td>\n",
       "    </tr>\n",
       "    <tr>\n",
       "      <th>75%</th>\n",
       "      <td>302.650000</td>\n",
       "      <td>1.164038</td>\n",
       "      <td>117.500000</td>\n",
       "    </tr>\n",
       "    <tr>\n",
       "      <th>max</th>\n",
       "      <td>308.200000</td>\n",
       "      <td>1.254738</td>\n",
       "      <td>152.000000</td>\n",
       "    </tr>\n",
       "  </tbody>\n",
       "</table>\n",
       "</div>"
      ],
      "text/plain": [
       "       Amount spent  Frequency     Actions\n",
       "count      7.000000   7.000000    7.000000\n",
       "mean     294.464286   1.140274  106.714286\n",
       "std       14.130842   0.063520   26.606480\n",
       "min      266.700000   1.078055   68.000000\n",
       "25%      289.605000   1.098266   94.000000\n",
       "50%      301.840000   1.124520  104.000000\n",
       "75%      302.650000   1.164038  117.500000\n",
       "max      308.200000   1.254738  152.000000"
      ]
     },
     "execution_count": 54,
     "metadata": {},
     "output_type": "execute_result"
    }
   ],
   "source": [
    "df2.describe(include = 'all')"
   ]
  },
  {
   "cell_type": "code",
   "execution_count": 55,
   "id": "64ed3a9e",
   "metadata": {},
   "outputs": [
    {
     "name": "stderr",
     "output_type": "stream",
     "text": [
      "<ipython-input-55-88cd567ef226>:2: SettingWithCopyWarning: \n",
      "A value is trying to be set on a copy of a slice from a DataFrame.\n",
      "Try using .loc[row_indexer,col_indexer] = value instead\n",
      "\n",
      "See the caveats in the documentation: https://pandas.pydata.org/pandas-docs/stable/user_guide/indexing.html#returning-a-view-versus-a-copy\n",
      "  df2['Desired_Actions'] = [160.0,140.0,110.0,120.0,95.0,105.0,75.0]\n"
     ]
    }
   ],
   "source": [
    "# creating desired action feature for Target Group1\n",
    "df2['Desired_Actions'] = [160.0,140.0,110.0,120.0,95.0,105.0,75.0]"
   ]
  },
  {
   "cell_type": "code",
   "execution_count": 56,
   "id": "332ab0b9",
   "metadata": {},
   "outputs": [],
   "source": [
    "# Preprocessing the data again\n",
    "df2 = df2[['Frequency','Actions','Desired_Actions','Amount spent']]"
   ]
  },
  {
   "cell_type": "code",
   "execution_count": 57,
   "id": "f16c96c5",
   "metadata": {},
   "outputs": [
    {
     "data": {
      "text/html": [
       "<div>\n",
       "<style scoped>\n",
       "    .dataframe tbody tr th:only-of-type {\n",
       "        vertical-align: middle;\n",
       "    }\n",
       "\n",
       "    .dataframe tbody tr th {\n",
       "        vertical-align: top;\n",
       "    }\n",
       "\n",
       "    .dataframe thead th {\n",
       "        text-align: right;\n",
       "    }\n",
       "</style>\n",
       "<table border=\"1\" class=\"dataframe\">\n",
       "  <thead>\n",
       "    <tr style=\"text-align: right;\">\n",
       "      <th></th>\n",
       "      <th>Frequency</th>\n",
       "      <th>Actions</th>\n",
       "      <th>Desired_Actions</th>\n",
       "      <th>Amount spent</th>\n",
       "    </tr>\n",
       "    <tr>\n",
       "      <th>Date</th>\n",
       "      <th></th>\n",
       "      <th></th>\n",
       "      <th></th>\n",
       "      <th></th>\n",
       "    </tr>\n",
       "  </thead>\n",
       "  <tbody>\n",
       "    <tr>\n",
       "      <th>2021-11-03</th>\n",
       "      <td>1.254738</td>\n",
       "      <td>152.0</td>\n",
       "      <td>160.0</td>\n",
       "      <td>288.58</td>\n",
       "    </tr>\n",
       "    <tr>\n",
       "      <th>2021-11-04</th>\n",
       "      <td>1.196593</td>\n",
       "      <td>124.0</td>\n",
       "      <td>140.0</td>\n",
       "      <td>290.63</td>\n",
       "    </tr>\n",
       "    <tr>\n",
       "      <th>2021-11-05</th>\n",
       "      <td>1.131482</td>\n",
       "      <td>104.0</td>\n",
       "      <td>110.0</td>\n",
       "      <td>302.01</td>\n",
       "    </tr>\n",
       "    <tr>\n",
       "      <th>2021-11-06</th>\n",
       "      <td>1.124520</td>\n",
       "      <td>111.0</td>\n",
       "      <td>120.0</td>\n",
       "      <td>308.20</td>\n",
       "    </tr>\n",
       "    <tr>\n",
       "      <th>2021-11-07</th>\n",
       "      <td>1.108482</td>\n",
       "      <td>89.0</td>\n",
       "      <td>95.0</td>\n",
       "      <td>303.29</td>\n",
       "    </tr>\n",
       "    <tr>\n",
       "      <th>2021-11-08</th>\n",
       "      <td>1.088049</td>\n",
       "      <td>99.0</td>\n",
       "      <td>105.0</td>\n",
       "      <td>301.84</td>\n",
       "    </tr>\n",
       "    <tr>\n",
       "      <th>2021-11-09</th>\n",
       "      <td>1.078055</td>\n",
       "      <td>68.0</td>\n",
       "      <td>75.0</td>\n",
       "      <td>266.70</td>\n",
       "    </tr>\n",
       "  </tbody>\n",
       "</table>\n",
       "</div>"
      ],
      "text/plain": [
       "            Frequency  Actions  Desired_Actions  Amount spent\n",
       "Date                                                         \n",
       "2021-11-03   1.254738    152.0            160.0        288.58\n",
       "2021-11-04   1.196593    124.0            140.0        290.63\n",
       "2021-11-05   1.131482    104.0            110.0        302.01\n",
       "2021-11-06   1.124520    111.0            120.0        308.20\n",
       "2021-11-07   1.108482     89.0             95.0        303.29\n",
       "2021-11-08   1.088049     99.0            105.0        301.84\n",
       "2021-11-09   1.078055     68.0             75.0        266.70"
      ]
     },
     "execution_count": 57,
     "metadata": {},
     "output_type": "execute_result"
    }
   ],
   "source": [
    "df2"
   ]
  },
  {
   "cell_type": "code",
   "execution_count": 58,
   "id": "0cb01314",
   "metadata": {},
   "outputs": [],
   "source": [
    "# creating X and Y\n",
    "X = df2.iloc[:,:-1] # independent variales\n",
    "Y = df2.iloc[:,-1] # dependent variable"
   ]
  },
  {
   "cell_type": "code",
   "execution_count": 59,
   "id": "79100727",
   "metadata": {},
   "outputs": [],
   "source": [
    "from sklearn.model_selection import train_test_split\n",
    "X_train,X_test,Y_train,Y_test=train_test_split(X,Y,test_size=0.2,random_state=10) ## default test_size=0.25"
   ]
  },
  {
   "cell_type": "code",
   "execution_count": 60,
   "id": "3893fb38",
   "metadata": {},
   "outputs": [
    {
     "name": "stdout",
     "output_type": "stream",
     "text": [
      "[300.88617561 303.58284707]\n"
     ]
    }
   ],
   "source": [
    "# Implementing Linear Regression\n",
    "from sklearn.linear_model import LinearRegression\n",
    "lm = LinearRegression()\n",
    "lm.fit(X_train,Y_train)\n",
    "## predict using the model\n",
    "Y_pred=lm.predict(X_test)\n",
    "print(Y_pred)"
   ]
  },
  {
   "cell_type": "code",
   "execution_count": 61,
   "id": "645e632d",
   "metadata": {},
   "outputs": [
    {
     "data": {
      "text/plain": [
       "0.7888679494755301"
      ]
     },
     "execution_count": 61,
     "metadata": {},
     "output_type": "execute_result"
    }
   ],
   "source": [
    "lm.score(X_train, Y_train)"
   ]
  },
  {
   "cell_type": "code",
   "execution_count": 62,
   "id": "ddb4f056",
   "metadata": {},
   "outputs": [
    {
     "data": {
      "text/html": [
       "<div>\n",
       "<style scoped>\n",
       "    .dataframe tbody tr th:only-of-type {\n",
       "        vertical-align: middle;\n",
       "    }\n",
       "\n",
       "    .dataframe tbody tr th {\n",
       "        vertical-align: top;\n",
       "    }\n",
       "\n",
       "    .dataframe thead th {\n",
       "        text-align: right;\n",
       "    }\n",
       "</style>\n",
       "<table border=\"1\" class=\"dataframe\">\n",
       "  <thead>\n",
       "    <tr style=\"text-align: right;\">\n",
       "      <th></th>\n",
       "      <th>Frequency</th>\n",
       "      <th>Actions</th>\n",
       "      <th>Desired_Actions</th>\n",
       "    </tr>\n",
       "    <tr>\n",
       "      <th>Date</th>\n",
       "      <th></th>\n",
       "      <th></th>\n",
       "      <th></th>\n",
       "    </tr>\n",
       "  </thead>\n",
       "  <tbody>\n",
       "    <tr>\n",
       "      <th>2021-11-05</th>\n",
       "      <td>1.131482</td>\n",
       "      <td>104.0</td>\n",
       "      <td>110.0</td>\n",
       "    </tr>\n",
       "    <tr>\n",
       "      <th>2021-11-09</th>\n",
       "      <td>1.078055</td>\n",
       "      <td>68.0</td>\n",
       "      <td>75.0</td>\n",
       "    </tr>\n",
       "  </tbody>\n",
       "</table>\n",
       "</div>"
      ],
      "text/plain": [
       "            Frequency  Actions  Desired_Actions\n",
       "Date                                           \n",
       "2021-11-05   1.131482    104.0            110.0\n",
       "2021-11-09   1.078055     68.0             75.0"
      ]
     },
     "execution_count": 62,
     "metadata": {},
     "output_type": "execute_result"
    }
   ],
   "source": [
    "X_test"
   ]
  },
  {
   "cell_type": "code",
   "execution_count": 63,
   "id": "f5a60f40",
   "metadata": {},
   "outputs": [
    {
     "name": "stderr",
     "output_type": "stream",
     "text": [
      "<ipython-input-63-35d60d3e691c>:4: SettingWithCopyWarning: \n",
      "A value is trying to be set on a copy of a slice from a DataFrame.\n",
      "Try using .loc[row_indexer,col_indexer] = value instead\n",
      "\n",
      "See the caveats in the documentation: https://pandas.pydata.org/pandas-docs/stable/user_guide/indexing.html#returning-a-view-versus-a-copy\n",
      "  new_df2[\"Actual_Amount_spent\"]=Y_test\n",
      "<ipython-input-63-35d60d3e691c>:5: SettingWithCopyWarning: \n",
      "A value is trying to be set on a copy of a slice from a DataFrame.\n",
      "Try using .loc[row_indexer,col_indexer] = value instead\n",
      "\n",
      "See the caveats in the documentation: https://pandas.pydata.org/pandas-docs/stable/user_guide/indexing.html#returning-a-view-versus-a-copy\n",
      "  new_df2[\"Predicted_Amount\"]=Y_pred\n"
     ]
    },
    {
     "data": {
      "text/html": [
       "<div>\n",
       "<style scoped>\n",
       "    .dataframe tbody tr th:only-of-type {\n",
       "        vertical-align: middle;\n",
       "    }\n",
       "\n",
       "    .dataframe tbody tr th {\n",
       "        vertical-align: top;\n",
       "    }\n",
       "\n",
       "    .dataframe thead th {\n",
       "        text-align: right;\n",
       "    }\n",
       "</style>\n",
       "<table border=\"1\" class=\"dataframe\">\n",
       "  <thead>\n",
       "    <tr style=\"text-align: right;\">\n",
       "      <th></th>\n",
       "      <th>Frequency</th>\n",
       "      <th>Actions</th>\n",
       "      <th>Desired_Actions</th>\n",
       "      <th>Actual_Amount_spent</th>\n",
       "      <th>Predicted_Amount</th>\n",
       "    </tr>\n",
       "    <tr>\n",
       "      <th>Date</th>\n",
       "      <th></th>\n",
       "      <th></th>\n",
       "      <th></th>\n",
       "      <th></th>\n",
       "      <th></th>\n",
       "    </tr>\n",
       "  </thead>\n",
       "  <tbody>\n",
       "    <tr>\n",
       "      <th>2021-11-05</th>\n",
       "      <td>1.131482</td>\n",
       "      <td>104.0</td>\n",
       "      <td>110.0</td>\n",
       "      <td>302.01</td>\n",
       "      <td>300.886176</td>\n",
       "    </tr>\n",
       "    <tr>\n",
       "      <th>2021-11-09</th>\n",
       "      <td>1.078055</td>\n",
       "      <td>68.0</td>\n",
       "      <td>75.0</td>\n",
       "      <td>266.70</td>\n",
       "      <td>303.582847</td>\n",
       "    </tr>\n",
       "  </tbody>\n",
       "</table>\n",
       "</div>"
      ],
      "text/plain": [
       "            Frequency  Actions  Desired_Actions  Actual_Amount_spent  \\\n",
       "Date                                                                   \n",
       "2021-11-05   1.131482    104.0            110.0               302.01   \n",
       "2021-11-09   1.078055     68.0             75.0               266.70   \n",
       "\n",
       "            Predicted_Amount  \n",
       "Date                          \n",
       "2021-11-05        300.886176  \n",
       "2021-11-09        303.582847  "
      ]
     },
     "execution_count": 63,
     "metadata": {},
     "output_type": "execute_result"
    }
   ],
   "source": [
    "new_df2=pd.DataFrame()\n",
    "new_df2=X_test\n",
    "\n",
    "new_df2[\"Actual_Amount_spent\"]=Y_test\n",
    "new_df2[\"Predicted_Amount\"]=Y_pred\n",
    "new_df2"
   ]
  },
  {
   "cell_type": "markdown",
   "id": "3291b6eb",
   "metadata": {},
   "source": [
    "# Here We have predicted the amount should be spent for the increased Actions for target group2"
   ]
  },
  {
   "cell_type": "markdown",
   "id": "bc0c46fd",
   "metadata": {},
   "source": [
    "# Data Analysis for Target Group3"
   ]
  },
  {
   "cell_type": "code",
   "execution_count": 64,
   "id": "b7adad42",
   "metadata": {},
   "outputs": [
    {
     "data": {
      "text/html": [
       "<div>\n",
       "<style scoped>\n",
       "    .dataframe tbody tr th:only-of-type {\n",
       "        vertical-align: middle;\n",
       "    }\n",
       "\n",
       "    .dataframe tbody tr th {\n",
       "        vertical-align: top;\n",
       "    }\n",
       "\n",
       "    .dataframe thead th {\n",
       "        text-align: right;\n",
       "    }\n",
       "</style>\n",
       "<table border=\"1\" class=\"dataframe\">\n",
       "  <thead>\n",
       "    <tr style=\"text-align: right;\">\n",
       "      <th></th>\n",
       "      <th>Ad set name</th>\n",
       "      <th>Amount spent</th>\n",
       "      <th>Actions</th>\n",
       "      <th>Ad set budget</th>\n",
       "      <th>Frequency</th>\n",
       "    </tr>\n",
       "    <tr>\n",
       "      <th>Date</th>\n",
       "      <th></th>\n",
       "      <th></th>\n",
       "      <th></th>\n",
       "      <th></th>\n",
       "      <th></th>\n",
       "    </tr>\n",
       "  </thead>\n",
       "  <tbody>\n",
       "    <tr>\n",
       "      <th>2021-11-03</th>\n",
       "      <td>Target group 3</td>\n",
       "      <td>72.35</td>\n",
       "      <td>34.0</td>\n",
       "      <td>67.0</td>\n",
       "      <td>1.165858</td>\n",
       "    </tr>\n",
       "    <tr>\n",
       "      <th>2021-11-04</th>\n",
       "      <td>Target group 3</td>\n",
       "      <td>71.98</td>\n",
       "      <td>16.0</td>\n",
       "      <td>67.0</td>\n",
       "      <td>1.120640</td>\n",
       "    </tr>\n",
       "    <tr>\n",
       "      <th>2021-11-05</th>\n",
       "      <td>Target group 3</td>\n",
       "      <td>75.05</td>\n",
       "      <td>21.0</td>\n",
       "      <td>67.0</td>\n",
       "      <td>1.135886</td>\n",
       "    </tr>\n",
       "    <tr>\n",
       "      <th>2021-11-06</th>\n",
       "      <td>Target group 3</td>\n",
       "      <td>76.34</td>\n",
       "      <td>28.0</td>\n",
       "      <td>67.0</td>\n",
       "      <td>1.077470</td>\n",
       "    </tr>\n",
       "    <tr>\n",
       "      <th>2021-11-07</th>\n",
       "      <td>Target group 3</td>\n",
       "      <td>75.47</td>\n",
       "      <td>22.0</td>\n",
       "      <td>67.0</td>\n",
       "      <td>1.086266</td>\n",
       "    </tr>\n",
       "    <tr>\n",
       "      <th>2021-11-08</th>\n",
       "      <td>Target group 3</td>\n",
       "      <td>68.72</td>\n",
       "      <td>15.0</td>\n",
       "      <td>67.0</td>\n",
       "      <td>1.065364</td>\n",
       "    </tr>\n",
       "    <tr>\n",
       "      <th>2021-11-09</th>\n",
       "      <td>Target group 3</td>\n",
       "      <td>64.19</td>\n",
       "      <td>18.0</td>\n",
       "      <td>67.0</td>\n",
       "      <td>1.058300</td>\n",
       "    </tr>\n",
       "  </tbody>\n",
       "</table>\n",
       "</div>"
      ],
      "text/plain": [
       "               Ad set name  Amount spent  Actions  Ad set budget  Frequency\n",
       "Date                                                                       \n",
       "2021-11-03  Target group 3         72.35     34.0           67.0   1.165858\n",
       "2021-11-04  Target group 3         71.98     16.0           67.0   1.120640\n",
       "2021-11-05  Target group 3         75.05     21.0           67.0   1.135886\n",
       "2021-11-06  Target group 3         76.34     28.0           67.0   1.077470\n",
       "2021-11-07  Target group 3         75.47     22.0           67.0   1.086266\n",
       "2021-11-08  Target group 3         68.72     15.0           67.0   1.065364\n",
       "2021-11-09  Target group 3         64.19     18.0           67.0   1.058300"
      ]
     },
     "execution_count": 64,
     "metadata": {},
     "output_type": "execute_result"
    }
   ],
   "source": [
    "df_target_group3"
   ]
  },
  {
   "cell_type": "code",
   "execution_count": 65,
   "id": "89787f13",
   "metadata": {},
   "outputs": [
    {
     "name": "stderr",
     "output_type": "stream",
     "text": [
      "C:\\Users\\Admin\\anaconda3\\lib\\site-packages\\pandas\\core\\frame.py:4308: SettingWithCopyWarning: \n",
      "A value is trying to be set on a copy of a slice from a DataFrame\n",
      "\n",
      "See the caveats in the documentation: https://pandas.pydata.org/pandas-docs/stable/user_guide/indexing.html#returning-a-view-versus-a-copy\n",
      "  return super().drop(\n"
     ]
    }
   ],
   "source": [
    "# REpeating the same steps as target group1\n",
    "# Removing irrelevant features\n",
    "df_target_group3.drop(['Ad set name','Ad set budget'],axis = 1,inplace = True)\n",
    "\n",
    "df3 = df_target_group3[['Amount spent','Frequency','Actions']]"
   ]
  },
  {
   "cell_type": "code",
   "execution_count": 66,
   "id": "dd33d76b",
   "metadata": {},
   "outputs": [
    {
     "data": {
      "text/html": [
       "<div>\n",
       "<style scoped>\n",
       "    .dataframe tbody tr th:only-of-type {\n",
       "        vertical-align: middle;\n",
       "    }\n",
       "\n",
       "    .dataframe tbody tr th {\n",
       "        vertical-align: top;\n",
       "    }\n",
       "\n",
       "    .dataframe thead th {\n",
       "        text-align: right;\n",
       "    }\n",
       "</style>\n",
       "<table border=\"1\" class=\"dataframe\">\n",
       "  <thead>\n",
       "    <tr style=\"text-align: right;\">\n",
       "      <th></th>\n",
       "      <th>Amount spent</th>\n",
       "      <th>Frequency</th>\n",
       "      <th>Actions</th>\n",
       "    </tr>\n",
       "  </thead>\n",
       "  <tbody>\n",
       "    <tr>\n",
       "      <th>count</th>\n",
       "      <td>7.000000</td>\n",
       "      <td>7.000000</td>\n",
       "      <td>7.000000</td>\n",
       "    </tr>\n",
       "    <tr>\n",
       "      <th>mean</th>\n",
       "      <td>72.014286</td>\n",
       "      <td>1.101398</td>\n",
       "      <td>22.000000</td>\n",
       "    </tr>\n",
       "    <tr>\n",
       "      <th>std</th>\n",
       "      <td>4.321554</td>\n",
       "      <td>0.040150</td>\n",
       "      <td>6.855655</td>\n",
       "    </tr>\n",
       "    <tr>\n",
       "      <th>min</th>\n",
       "      <td>64.190000</td>\n",
       "      <td>1.058300</td>\n",
       "      <td>15.000000</td>\n",
       "    </tr>\n",
       "    <tr>\n",
       "      <th>25%</th>\n",
       "      <td>70.350000</td>\n",
       "      <td>1.071417</td>\n",
       "      <td>17.000000</td>\n",
       "    </tr>\n",
       "    <tr>\n",
       "      <th>50%</th>\n",
       "      <td>72.350000</td>\n",
       "      <td>1.086266</td>\n",
       "      <td>21.000000</td>\n",
       "    </tr>\n",
       "    <tr>\n",
       "      <th>75%</th>\n",
       "      <td>75.260000</td>\n",
       "      <td>1.128263</td>\n",
       "      <td>25.000000</td>\n",
       "    </tr>\n",
       "    <tr>\n",
       "      <th>max</th>\n",
       "      <td>76.340000</td>\n",
       "      <td>1.165858</td>\n",
       "      <td>34.000000</td>\n",
       "    </tr>\n",
       "  </tbody>\n",
       "</table>\n",
       "</div>"
      ],
      "text/plain": [
       "       Amount spent  Frequency    Actions\n",
       "count      7.000000   7.000000   7.000000\n",
       "mean      72.014286   1.101398  22.000000\n",
       "std        4.321554   0.040150   6.855655\n",
       "min       64.190000   1.058300  15.000000\n",
       "25%       70.350000   1.071417  17.000000\n",
       "50%       72.350000   1.086266  21.000000\n",
       "75%       75.260000   1.128263  25.000000\n",
       "max       76.340000   1.165858  34.000000"
      ]
     },
     "execution_count": 66,
     "metadata": {},
     "output_type": "execute_result"
    }
   ],
   "source": [
    "df3.describe(include = 'all')"
   ]
  },
  {
   "cell_type": "code",
   "execution_count": 67,
   "id": "f6365e13",
   "metadata": {},
   "outputs": [
    {
     "name": "stderr",
     "output_type": "stream",
     "text": [
      "<ipython-input-67-f42618b84c64>:2: SettingWithCopyWarning: \n",
      "A value is trying to be set on a copy of a slice from a DataFrame.\n",
      "Try using .loc[row_indexer,col_indexer] = value instead\n",
      "\n",
      "See the caveats in the documentation: https://pandas.pydata.org/pandas-docs/stable/user_guide/indexing.html#returning-a-view-versus-a-copy\n",
      "  df3['Desired_Actions'] = [40.0,20.0,25.0,35.0,30.0,25.0,25.0]\n"
     ]
    }
   ],
   "source": [
    "# creating desired action feature for Target Group1\n",
    "df3['Desired_Actions'] = [40.0,20.0,25.0,35.0,30.0,25.0,25.0]"
   ]
  },
  {
   "cell_type": "code",
   "execution_count": 68,
   "id": "09b34f07",
   "metadata": {},
   "outputs": [],
   "source": [
    "# Preprocessing the data again\n",
    "df3 = df3[['Frequency','Actions','Desired_Actions','Amount spent']]"
   ]
  },
  {
   "cell_type": "code",
   "execution_count": 69,
   "id": "5378ac7b",
   "metadata": {},
   "outputs": [],
   "source": [
    "# creating X and Y\n",
    "X = df3.iloc[:,:-1] # independent variales\n",
    "Y = df3.iloc[:,-1] # dependent variable"
   ]
  },
  {
   "cell_type": "code",
   "execution_count": 70,
   "id": "269dc8f2",
   "metadata": {},
   "outputs": [],
   "source": [
    "from sklearn.model_selection import train_test_split\n",
    "X_train,X_test,Y_train,Y_test=train_test_split(X,Y,test_size=0.2,random_state=10) ## default test_size=0.25"
   ]
  },
  {
   "cell_type": "code",
   "execution_count": 71,
   "id": "c3b5e056",
   "metadata": {},
   "outputs": [
    {
     "name": "stdout",
     "output_type": "stream",
     "text": [
      "[72.70549331 75.11871016]\n"
     ]
    }
   ],
   "source": [
    "# Implementing Linear Regression\n",
    "from sklearn.linear_model import LinearRegression\n",
    "lm = LinearRegression()\n",
    "lm.fit(X_train,Y_train)\n",
    "## predict using the model\n",
    "Y_pred=lm.predict(X_test)\n",
    "print(Y_pred)"
   ]
  },
  {
   "cell_type": "code",
   "execution_count": 72,
   "id": "dc5d5003",
   "metadata": {},
   "outputs": [
    {
     "data": {
      "text/plain": [
       "0.7707354059491126"
      ]
     },
     "execution_count": 72,
     "metadata": {},
     "output_type": "execute_result"
    }
   ],
   "source": [
    "lm.score(X_train, Y_train)"
   ]
  },
  {
   "cell_type": "code",
   "execution_count": 73,
   "id": "5659c84c",
   "metadata": {},
   "outputs": [
    {
     "name": "stderr",
     "output_type": "stream",
     "text": [
      "<ipython-input-73-39b0252ff605>:4: SettingWithCopyWarning: \n",
      "A value is trying to be set on a copy of a slice from a DataFrame.\n",
      "Try using .loc[row_indexer,col_indexer] = value instead\n",
      "\n",
      "See the caveats in the documentation: https://pandas.pydata.org/pandas-docs/stable/user_guide/indexing.html#returning-a-view-versus-a-copy\n",
      "  new_df3[\"Actual_Amount_spent\"]=Y_test\n",
      "<ipython-input-73-39b0252ff605>:5: SettingWithCopyWarning: \n",
      "A value is trying to be set on a copy of a slice from a DataFrame.\n",
      "Try using .loc[row_indexer,col_indexer] = value instead\n",
      "\n",
      "See the caveats in the documentation: https://pandas.pydata.org/pandas-docs/stable/user_guide/indexing.html#returning-a-view-versus-a-copy\n",
      "  new_df3[\"Predicted_Amount\"]=Y_pred\n"
     ]
    },
    {
     "data": {
      "text/html": [
       "<div>\n",
       "<style scoped>\n",
       "    .dataframe tbody tr th:only-of-type {\n",
       "        vertical-align: middle;\n",
       "    }\n",
       "\n",
       "    .dataframe tbody tr th {\n",
       "        vertical-align: top;\n",
       "    }\n",
       "\n",
       "    .dataframe thead th {\n",
       "        text-align: right;\n",
       "    }\n",
       "</style>\n",
       "<table border=\"1\" class=\"dataframe\">\n",
       "  <thead>\n",
       "    <tr style=\"text-align: right;\">\n",
       "      <th></th>\n",
       "      <th>Frequency</th>\n",
       "      <th>Actions</th>\n",
       "      <th>Desired_Actions</th>\n",
       "      <th>Actual_Amount_spent</th>\n",
       "      <th>Predicted_Amount</th>\n",
       "    </tr>\n",
       "    <tr>\n",
       "      <th>Date</th>\n",
       "      <th></th>\n",
       "      <th></th>\n",
       "      <th></th>\n",
       "      <th></th>\n",
       "      <th></th>\n",
       "    </tr>\n",
       "  </thead>\n",
       "  <tbody>\n",
       "    <tr>\n",
       "      <th>2021-11-05</th>\n",
       "      <td>1.135886</td>\n",
       "      <td>21.0</td>\n",
       "      <td>25.0</td>\n",
       "      <td>75.05</td>\n",
       "      <td>72.705493</td>\n",
       "    </tr>\n",
       "    <tr>\n",
       "      <th>2021-11-09</th>\n",
       "      <td>1.058300</td>\n",
       "      <td>18.0</td>\n",
       "      <td>25.0</td>\n",
       "      <td>64.19</td>\n",
       "      <td>75.118710</td>\n",
       "    </tr>\n",
       "  </tbody>\n",
       "</table>\n",
       "</div>"
      ],
      "text/plain": [
       "            Frequency  Actions  Desired_Actions  Actual_Amount_spent  \\\n",
       "Date                                                                   \n",
       "2021-11-05   1.135886     21.0             25.0                75.05   \n",
       "2021-11-09   1.058300     18.0             25.0                64.19   \n",
       "\n",
       "            Predicted_Amount  \n",
       "Date                          \n",
       "2021-11-05         72.705493  \n",
       "2021-11-09         75.118710  "
      ]
     },
     "execution_count": 73,
     "metadata": {},
     "output_type": "execute_result"
    }
   ],
   "source": [
    "new_df3=pd.DataFrame()\n",
    "new_df3=X_test\n",
    "\n",
    "new_df3[\"Actual_Amount_spent\"]=Y_test\n",
    "new_df3[\"Predicted_Amount\"]=Y_pred\n",
    "new_df3"
   ]
  },
  {
   "cell_type": "markdown",
   "id": "45d9c993",
   "metadata": {},
   "source": [
    "successfully predicted amount for improvised Actions for target group 3"
   ]
  },
  {
   "cell_type": "markdown",
   "id": "844f1be7",
   "metadata": {},
   "source": []
  },
  {
   "cell_type": "code",
   "execution_count": null,
   "id": "ebc67198",
   "metadata": {},
   "outputs": [],
   "source": []
  },
  {
   "cell_type": "code",
   "execution_count": null,
   "id": "e0c21fb8",
   "metadata": {},
   "outputs": [],
   "source": []
  },
  {
   "cell_type": "code",
   "execution_count": null,
   "id": "d02b1f81",
   "metadata": {},
   "outputs": [],
   "source": []
  },
  {
   "cell_type": "code",
   "execution_count": null,
   "id": "6a25054b",
   "metadata": {},
   "outputs": [],
   "source": []
  }
 ],
 "metadata": {
  "kernelspec": {
   "display_name": "Python 3",
   "language": "python",
   "name": "python3"
  },
  "language_info": {
   "codemirror_mode": {
    "name": "ipython",
    "version": 3
   },
   "file_extension": ".py",
   "mimetype": "text/x-python",
   "name": "python",
   "nbconvert_exporter": "python",
   "pygments_lexer": "ipython3",
   "version": "3.8.8"
  }
 },
 "nbformat": 4,
 "nbformat_minor": 5
}
